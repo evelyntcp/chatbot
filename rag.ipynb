{
 "cells": [
  {
   "cell_type": "markdown",
   "metadata": {},
   "source": [
    "# RAG with Langchain"
   ]
  },
  {
   "cell_type": "code",
   "execution_count": 1,
   "metadata": {},
   "outputs": [],
   "source": [
    "%load_ext autoreload\n",
    "%autoreload 2\n",
    "import os\n",
    "import sys\n",
    "working_dir = os.getcwd()\n",
    "# module_path = os.path.abspath(os.path.join('../src')) # or the path to your source code\n",
    "# sys.path.insert(0, module_path)"
   ]
  },
  {
   "cell_type": "code",
   "execution_count": 24,
   "metadata": {},
   "outputs": [],
   "source": [
    "import faiss\n",
    "\n",
    "from langchain import hub\n",
    "from langchain.chains import create_retrieval_chain, create_history_aware_retriever\n",
    "from langchain.chains.combine_documents import create_stuff_documents_chain\n",
    "from langchain_community.chat_message_histories import ChatMessageHistory\n",
    "from langchain_community.document_loaders import PyPDFLoader\n",
    "from langchain_community.llms import HuggingFacePipeline\n",
    "from langchain_community.vectorstores import FAISS\n",
    "from langchain_core.chat_history import BaseChatMessageHistory\n",
    "from langchain_core.output_parsers import StrOutputParser\n",
    "from langchain_core.prompts import ChatPromptTemplate, MessagesPlaceholder\n",
    "from langchain_core.runnables.history import RunnableWithMessageHistory\n",
    "from langchain_core.runnables import RunnablePassthrough\n",
    "from langchain_huggingface.embeddings import HuggingFaceEmbeddings\n",
    "from langchain.text_splitter import RecursiveCharacterTextSplitter\n",
    "\n",
    "import matplotlib.pyplot as plt\n",
    "import nltk\n",
    "import seaborn as sns\n",
    "from sentence_transformers import SentenceTransformer\n",
    "import torch\n",
    "from transformers import pipeline, AutoModelForCausalLM, AutoTokenizer\n",
    "# from transformers.utils import is_flash_attn_2_available"
   ]
  },
  {
   "cell_type": "code",
   "execution_count": null,
   "metadata": {},
   "outputs": [],
   "source": []
  },
  {
   "cell_type": "markdown",
   "metadata": {},
   "source": [
    "# EDA"
   ]
  },
  {
   "cell_type": "code",
   "execution_count": 37,
   "metadata": {},
   "outputs": [],
   "source": [
    "def load_pdf(\n",
    "    doc_list: list\n",
    "):\n",
    "    docs_before_split = []\n",
    "\n",
    "    for doc_path in doc_list:\n",
    "        loader = PyPDFLoader(doc_path)\n",
    "        loaded_docs = loader.load()\n",
    "        # logger.info(f\"Loaded {len(loaded_docs)} docs from {doc_path}\")\n",
    "        docs_before_split.extend(loaded_docs)\n",
    "    return docs_before_split"
   ]
  },
  {
   "cell_type": "code",
   "execution_count": 38,
   "metadata": {},
   "outputs": [],
   "source": [
    "docs = load_pdf([\"Evelyn_Tan_Chor_Phin_CV.pdf\"])"
   ]
  },
  {
   "cell_type": "code",
   "execution_count": 40,
   "metadata": {},
   "outputs": [
    {
     "name": "stdout",
     "output_type": "stream",
     "text": [
      " \n",
      "  \n",
      "EVELYN TAN \n",
      "CHOR PHIN  \n",
      " \n",
      " +65 96285848 \n",
      " evelyntancp@gmail.com \n",
      "    \n",
      "EDUCATION \n",
      " \n",
      "National University of Singapore  \n",
      "Bachelor of Science, Chemistry, \n",
      "Specialization in Materials Chemistry \n",
      "Honors with Distinction (4.3/5.0) \n",
      "August 2014 – May 2018 \n",
      " \n",
      "Temasek Polytechnic \n",
      "Specialist Diploma in Business Analytics \n",
      "October 2019 – August 2020 \n",
      " \n",
      "RELEVANT SKILLS \n",
      " \n",
      "Data Science / Machine Learning  \n",
      " Python libraries: Scikit-learn, Keras \n",
      "Tensorflow, Pytorch, Transformers, \n",
      "NLTK, Semantic Kernel, Langchain, \n",
      "pytest \n",
      " ML Ops: Docker, ML flow, Streamlit, \n",
      "FastAPI, Kubernetes \n",
      " Database: PostgreSQL \n",
      " Cloud services: Azure, Google Cloud \n",
      " CI/CD: Gitlab, Github \n",
      " Visualization: Power BI, Tableau \n",
      " Object-oriented programming \n",
      " Bash scripting \n",
      " Basic system design \n",
      " Software engineering \n",
      " Agile framework \n",
      " \n",
      "Engineering \n",
      " Process control \n",
      " Failure analysis and characterization \n",
      " Lab management \n",
      " JMP \n",
      " \n",
      "Project Management \n",
      " \n",
      "Problem Solving \n",
      " \n",
      "INTERESTS \n",
      " \n",
      "Artificial Intelligence \n",
      " \n",
      "Finance \n",
      " \n",
      "Photography \n",
      " \n",
      "Travelling \n",
      "  \n",
      "CAREER OBJECTIVE \n",
      "  \n",
      "As a Chartered Artificial Intelligence Engineer (associate) with foundations in machine \n",
      "learning and deep learning, I bring over 5 years of experience from the manufacturing \n",
      "engineering industry. I have recently transitioned to AI engineering, with a focus on \n",
      "Large Language Models (LLMs) and AI agents. I am keen to contribute to data and AI-\n",
      "driven solutions  as an AI/ML engineer. \n",
      " \n",
      "PROFESSIONAL EXPERIENCE \n",
      " \n",
      "AI Apprentice (Chartered AI Engineer Associate) \n",
      "AI Singapore \n",
      "August 2023 – May 2024 (9-months programme) \n",
      " Built chatbots and AI agents using Microsoft Semantic Kernel, \n",
      "LangChain and large language models (LLMs), demonstrating \n",
      "proficiency in natural language processing and generative AI.  \n",
      " Applied broad prompt engineering techniques to enhance the \n",
      "performance of AI agents.  \n",
      " Developed different AI agent components as microservices with web-\n",
      "based endpoints using FastAPI. \n",
      " Integrated AI agent components with PostgreSQL database and Azure \n",
      "blob storage.  \n",
      " Prototyped and deployed AI applications with tools such as Streamlit, \n",
      "FastAPI, Docker, Kubernetes and Microsoft Azure. \n",
      " Built unit tests with PyTest and unittest libraries.  \n",
      " Collaborated within an Agile framework with the aim to create \n",
      "production-grade AI agents tailored for educating AI learners. \n",
      " Well-versed in data mining techniques and machine learning models to \n",
      "develop a code evaluation agent for various machine learning problem \n",
      "types (e.g., tabular regression, tabular and text classification). \n",
      " Implemented workflows (CI/CD pipeline) with Github for evaluating \n",
      "learners’ code. \n",
      " \n",
      "Lab Engineer \n",
      "Dyson  \n",
      "April 2022 – August 2023 \n",
      " Directed the Singapore Cell Materials Characterization (SCMC) lab team \n",
      "as the Lab Owner and collaborated with multiple stakeholders to set up \n",
      "a new materials science lab of >10 equipment.  \n",
      " Managed lab operations, operational expense budgeting, procurement, \n",
      "resource allocation and lab processes (booking system, logbook etc).  \n",
      " Led the characterisation team to establish a workflow to characterise \n",
      "critical properties for electrolytes in batteries. \n",
      " Consultant and specialist for lab equipment applications and methods \n",
      "(ICP-MS, TGA, DSC, particle size analyzer) to support the development \n",
      "and scale-up of battery manufacturing in Singapore.  \n",
      " \n",
      "Failure Analysis Engineer \n",
      "HP Inc.  \n",
      "March 2019 – April 2022 \n",
      " Cleaned and transformed lab transaction  data to develop a Power BI \n",
      "dashboard that monitors lab operations activity and customer trends.  \n",
      " \n",
      "  \n",
      " \n",
      " \n",
      " \n",
      " \n",
      " \n",
      " \n",
      " \n",
      "  Collaborated with cross-functional teams to troubleshoot ink and \n",
      "printhead manufacturing failures and recommend appropriate \n",
      "laboratory analysis to drive root cause resolution.  \n",
      " Standardized failure analysis workflow and methods for Page-Wide \n",
      "printhead and worked with US team to share failure analysis learnings.  \n",
      " Processed lab analysis data and presented reports to management for \n",
      "product risk assessment and decision-making.  \n",
      " Established equipment capabilities, methods and verification \n",
      "procedures for chromatography tools (GC-MS, LC-MS-QTOF, ion \n",
      "chromatography), as well as benchmarked equipment performance \n",
      "with global HP analytical labs. \n",
      " Developed chemical material compatibility framework for evaluation of \n",
      "new materials in printhead, ink supplies and formulation.  \n",
      " \n",
      "Process and Equipment Engineer \n",
      "Micron Semiconductor Asia  \n",
      "July 2018 – December 2018 \n",
      " Meticulously managed 2 key diffusion processes by monitoring and \n",
      "optimizing process parameters and yield.  \n",
      " Resolved process issues by investigating trends against processes from \n",
      "other modules and drawing insights from trends.  \n",
      " Collaborated with cross-functional teams to identify opportunities and \n",
      "initiate projects to improve process yield, quality and cost. \n",
      " \n",
      " \n",
      " \n",
      " \n",
      " \n"
     ]
    }
   ],
   "source": [
    "docs_string = \"\"\n",
    "\n",
    "for doc in docs:\n",
    "    docs_string += doc.page_content\n",
    "\n",
    "print(docs_string)"
   ]
  },
  {
   "cell_type": "code",
   "execution_count": 44,
   "metadata": {},
   "outputs": [
    {
     "name": "stderr",
     "output_type": "stream",
     "text": [
      "[nltk_data] Downloading package punkt to\n",
      "[nltk_data]     C:\\Users\\eve\\AppData\\Roaming\\nltk_data...\n",
      "[nltk_data]   Package punkt is already up-to-date!\n"
     ]
    }
   ],
   "source": [
    "nltk.download(\"punkt\")\n",
    "\n",
    "def split_into_sentences(text):\n",
    "    sentences = nltk.sent_tokenize(text)\n",
    "    return sentences\n"
   ]
  },
  {
   "cell_type": "code",
   "execution_count": 45,
   "metadata": {},
   "outputs": [
    {
     "name": "stdout",
     "output_type": "stream",
     "text": [
      " \n",
      "  \n",
      "EVELYN TAN \n",
      "CHOR PHIN  \n",
      " \n",
      " +65 96285848 \n",
      " evelyntancp@gmail.com \n",
      "    \n",
      "EDUCATION \n",
      " \n",
      "National University of Singapore  \n",
      "Bachelor of Science, Chemistry, \n",
      "Specialization in Materials Chemistry \n",
      "Honors with Distinction (4.3/5.0) \n",
      "August 2014 – May 2018 \n",
      " \n",
      "Temasek Polytechnic \n",
      "Specialist Diploma in Business Analytics \n",
      "October 2019 – August 2020 \n",
      " \n",
      "RELEVANT SKILLS \n",
      " \n",
      "Data Science / Machine Learning  \n",
      " Python libraries: Scikit-learn, Keras \n",
      "Tensorflow, Pytorch, Transformers, \n",
      "NLTK, Semantic Kernel, Langchain, \n",
      "pytest \n",
      " ML Ops: Docker, ML flow, Streamlit, \n",
      "FastAPI, Kubernetes \n",
      " Database: PostgreSQL \n",
      " Cloud services: Azure, Google Cloud \n",
      " CI/CD: Gitlab, Github \n",
      " Visualization: Power BI, Tableau \n",
      " Object-oriented programming \n",
      " Bash scripting \n",
      " Basic system design \n",
      " Software engineering \n",
      " Agile framework \n",
      " \n",
      "Engineering \n",
      " Process control \n",
      " Failure analysis and characterization \n",
      " Lab management \n",
      " JMP \n",
      " \n",
      "Project Management \n",
      " \n",
      "Problem Solving \n",
      " \n",
      "INTERESTS \n",
      " \n",
      "Artificial Intelligence \n",
      " \n",
      "Finance \n",
      " \n",
      "Photography \n",
      " \n",
      "Travelling \n",
      "  \n",
      "CAREER OBJECTIVE \n",
      "  \n",
      "As a Chartered Artificial Intelligence Engineer (associate) with foundations in machine \n",
      "learning and deep learning, I bring over 5 years of experience from the manufacturing \n",
      "engineering industry.\n",
      "I have recently transitioned to AI engineering, with a focus on \n",
      "Large Language Models (LLMs) and AI agents.\n",
      "I am keen to contribute to data and AI-\n",
      "driven solutions  as an AI/ML engineer.\n",
      "PROFESSIONAL EXPERIENCE \n",
      " \n",
      "AI Apprentice (Chartered AI Engineer Associate) \n",
      "AI Singapore \n",
      "August 2023 – May 2024 (9-months programme) \n",
      " Built chatbots and AI agents using Microsoft Semantic Kernel, \n",
      "LangChain and large language models (LLMs), demonstrating \n",
      "proficiency in natural language processing and generative AI.\n",
      " Applied broad prompt engineering techniques to enhance the \n",
      "performance of AI agents.\n",
      " Developed different AI agent components as microservices with web-\n",
      "based endpoints using FastAPI.\n",
      " Integrated AI agent components with PostgreSQL database and Azure \n",
      "blob storage.\n",
      " Prototyped and deployed AI applications with tools such as Streamlit, \n",
      "FastAPI, Docker, Kubernetes and Microsoft Azure.\n",
      " Built unit tests with PyTest and unittest libraries.\n",
      " Collaborated within an Agile framework with the aim to create \n",
      "production-grade AI agents tailored for educating AI learners.\n",
      " Well-versed in data mining techniques and machine learning models to \n",
      "develop a code evaluation agent for various machine learning problem \n",
      "types (e.g., tabular regression, tabular and text classification).\n",
      " Implemented workflows (CI/CD pipeline) with Github for evaluating \n",
      "learners’ code.\n",
      "Lab Engineer \n",
      "Dyson  \n",
      "April 2022 – August 2023 \n",
      " Directed the Singapore Cell Materials Characterization (SCMC) lab team \n",
      "as the Lab Owner and collaborated with multiple stakeholders to set up \n",
      "a new materials science lab of >10 equipment.\n",
      " Managed lab operations, operational expense budgeting, procurement, \n",
      "resource allocation and lab processes (booking system, logbook etc).\n",
      " Led the characterisation team to establish a workflow to characterise \n",
      "critical properties for electrolytes in batteries.\n",
      " Consultant and specialist for lab equipment applications and methods \n",
      "(ICP-MS, TGA, DSC, particle size analyzer) to support the development \n",
      "and scale-up of battery manufacturing in Singapore.\n",
      "Failure Analysis Engineer \n",
      "HP Inc.  \n",
      "March 2019 – April 2022 \n",
      " Cleaned and transformed lab transaction  data to develop a Power BI \n",
      "dashboard that monitors lab operations activity and customer trends.\n",
      " Collaborated with cross-functional teams to troubleshoot ink and \n",
      "printhead manufacturing failures and recommend appropriate \n",
      "laboratory analysis to drive root cause resolution.\n",
      " Standardized failure analysis workflow and methods for Page-Wide \n",
      "printhead and worked with US team to share failure analysis learnings.\n",
      " Processed lab analysis data and presented reports to management for \n",
      "product risk assessment and decision-making.\n",
      " Established equipment capabilities, methods and verification \n",
      "procedures for chromatography tools (GC-MS, LC-MS-QTOF, ion \n",
      "chromatography), as well as benchmarked equipment performance \n",
      "with global HP analytical labs.\n",
      " Developed chemical material compatibility framework for evaluation of \n",
      "new materials in printhead, ink supplies and formulation.\n",
      "Process and Equipment Engineer \n",
      "Micron Semiconductor Asia  \n",
      "July 2018 – December 2018 \n",
      " Meticulously managed 2 key diffusion processes by monitoring and \n",
      "optimizing process parameters and yield.\n",
      " Resolved process issues by investigating trends against processes from \n",
      "other modules and drawing insights from trends.\n",
      " Collaborated with cross-functional teams to identify opportunities and \n",
      "initiate projects to improve process yield, quality and cost.\n"
     ]
    }
   ],
   "source": [
    "sentences_eda = split_into_sentences(docs_string)\n",
    "for sentence in sentences_eda:\n",
    "    print(sentence)"
   ]
  },
  {
   "cell_type": "code",
   "execution_count": 47,
   "metadata": {},
   "outputs": [
    {
     "name": "stdout",
     "output_type": "stream",
     "text": [
      "[157, 18, 15, 42, 13, 14, 12, 17, 9, 19, 29, 11, 38, 17, 17, 27, 31, 22, 20, 16, 26, 17, 27, 17, 18] [1263, 108, 79, 320, 87, 99, 82, 121, 54, 127, 208, 84, 239, 139, 123, 194, 201, 179, 138, 115, 219, 130, 195, 121, 135]\n"
     ]
    }
   ],
   "source": [
    "def calculate_sentence_lengths(sentences):\n",
    "    word_lengths = [len(sentence.split()) for sentence in sentences]\n",
    "    char_lengths = [len(sentence) for sentence in sentences]\n",
    "    return word_lengths, char_lengths\n",
    "\n",
    "word_lengths, char_lengths = calculate_sentence_lengths(sentences_eda)\n",
    "print(word_lengths, char_lengths)"
   ]
  },
  {
   "cell_type": "code",
   "execution_count": 53,
   "metadata": {},
   "outputs": [
    {
     "data": {
      "image/png": "[encoded data removed]",
      "text/plain": [
       "<Figure size 1200x600 with 2 Axes>"
      ]
     },
     "metadata": {},
     "output_type": "display_data"
    }
   ],
   "source": [
    "def visualize_sentence_lengths(word_lengths, char_lengths):\n",
    "    fig, axs = plt.subplots(1, 2, figsize=(12, 6))\n",
    "\n",
    "    # Plot word lengths\n",
    "    sns.histplot(word_lengths, bins=10, kde=True, ax=axs[0])\n",
    "    axs[0].set_title(\"Sentence Word Lengths\")\n",
    "    axs[0].set_xlabel(\"Word Count\")\n",
    "    axs[0].set_ylabel(\"Frequency\")\n",
    "\n",
    "    # Plot character lengths\n",
    "    sns.histplot(char_lengths, bins=10, kde=True, ax=axs[1])\n",
    "    axs[1].set_title(\"Sentence Character Lengths\")\n",
    "    axs[1].set_xlabel(\"Character Count\")\n",
    "    axs[1].set_ylabel(\"Frequency\")\n",
    "\n",
    "    plt.tight_layout()\n",
    "    plt.show()\n",
    "\n",
    "visualize_sentence_lengths(word_lengths, char_lengths)"
   ]
  },
  {
   "cell_type": "code",
   "execution_count": 56,
   "metadata": {},
   "outputs": [
    {
     "data": {
      "text/plain": [
       "190.4"
      ]
     },
     "execution_count": 56,
     "metadata": {},
     "output_type": "execute_result"
    }
   ],
   "source": [
    "avg_char_count = sum(char_lengths)/len(char_lengths)\n",
    "avg_char_count"
   ]
  },
  {
   "cell_type": "markdown",
   "metadata": {},
   "source": [
    "# Document embedding pipeline\n",
    "- Load document, split document\n",
    "- Embed document\n",
    "- Add to vector db (trying with FAISS)"
   ]
  },
  {
   "cell_type": "code",
   "execution_count": 5,
   "metadata": {},
   "outputs": [],
   "source": [
    "def load_and_split_documents(\n",
    "    doc_list: list,\n",
    "    splitter=RecursiveCharacterTextSplitter,\n",
    "    chunk_size=180,\n",
    "    chunk_overlap=20,\n",
    "):\n",
    "    docs_before_split = []\n",
    "    chunks = []\n",
    "\n",
    "    text_splitter = splitter(\n",
    "        chunk_size=chunk_size,\n",
    "        chunk_overlap=chunk_overlap,\n",
    "    )\n",
    "\n",
    "    for doc_path in doc_list:\n",
    "        loader = PyPDFLoader(doc_path)\n",
    "        loaded_docs = loader.load()\n",
    "        docs_before_split.extend(loaded_docs)\n",
    "        print(\"before\", docs_before_split)\n",
    "    docs_after_split = text_splitter.split_documents(docs_before_split)\n",
    "    print(\"after\", docs_after_split)\n",
    "\n",
    "        # for doc in loaded_docs:\n",
    "        #     # logger.info(f\"Loaded {len(loaded_docs)} docs from {doc_path}\")\n",
    "        #     chunks.extend(text_splitter.split_text(doc.page_content))\n",
    "\n",
    "    return docs_after_split"
   ]
  },
  {
   "cell_type": "markdown",
   "metadata": {},
   "source": [
    "Can tune different chunk size, overlap and type of splitter"
   ]
  },
  {
   "cell_type": "code",
   "execution_count": 6,
   "metadata": {},
   "outputs": [
    {
     "name": "stdout",
     "output_type": "stream",
     "text": [
      "before [Document(page_content=' \\n  \\nEVELYN TAN \\nCHOR PHIN  \\n \\n +65 96285848 \\n evelyntancp@gmail.com \\n    \\nEDUCATION \\n \\nNational University of Singapore  \\nBachelor of Science, Chemistry, \\nSpecialization in Materials Chemistry \\nHonors with Distinction (4.3/5.0) \\nAugust 2014 – May 2018 \\n \\nTemasek Polytechnic \\nSpecialist Diploma in Business Analytics \\nOctober 2019 – August 2020 \\n \\nRELEVANT SKILLS \\n \\nData Science / Machine Learning  \\n\\uf0b7 Python libraries: Scikit-learn, Keras \\nTensorflow, Pytorch, Transformers, \\nNLTK, Semantic Kernel, Langchain, \\npytest \\n\\uf0b7 ML Ops: Docker, ML flow, Streamlit, \\nFastAPI, Kubernetes \\n\\uf0b7 Database: PostgreSQL \\n\\uf0b7 Cloud services: Azure, Google Cloud \\n\\uf0b7 CI/CD: Gitlab, Github \\n\\uf0b7 Visualization: Power BI, Tableau \\n\\uf0b7 Object-oriented programming \\n\\uf0b7 Bash scripting \\n\\uf0b7 Basic system design \\n\\uf0b7 Software engineering \\n\\uf0b7 Agile framework \\n \\nEngineering \\n\\uf0b7 Process control \\n\\uf0b7 Failure analysis and characterization \\n\\uf0b7 Lab management \\n\\uf0b7 JMP \\n \\nProject Management \\n \\nProblem Solving \\n \\nINTERESTS \\n \\nArtificial Intelligence \\n \\nFinance \\n \\nPhotography \\n \\nTravelling \\n  \\nCAREER OBJECTIVE \\n  \\nAs a Chartered Artificial Intelligence Engineer (associate) with foundations in machine \\nlearning and deep learning, I bring over 5 years of experience from the manufacturing \\nengineering industry. I have recently transitioned to AI engineering, with a focus on \\nLarge Language Models (LLMs) and AI agents. I am keen to contribute to data and AI-\\ndriven solutions  as an AI/ML engineer. \\n \\nPROFESSIONAL EXPERIENCE \\n \\nAI Apprentice (Chartered AI Engineer Associate) \\nAI Singapore \\nAugust 2023 – May 2024 (9-months programme) \\n\\uf0b7 Built chatbots and AI agents using Microsoft Semantic Kernel, \\nLangChain and large language models (LLMs), demonstrating \\nproficiency in natural language processing and generative AI.  \\n\\uf0b7 Applied broad prompt engineering techniques to enhance the \\nperformance of AI agents.  \\n\\uf0b7 Developed different AI agent components as microservices with web-\\nbased endpoints using FastAPI. \\n\\uf0b7 Integrated AI agent components with PostgreSQL database and Azure \\nblob storage.  \\n\\uf0b7 Prototyped and deployed AI applications with tools such as Streamlit, \\nFastAPI, Docker, Kubernetes and Microsoft Azure. \\n\\uf0b7 Built unit tests with PyTest and unittest libraries.  \\n\\uf0b7 Collaborated within an Agile framework with the aim to create \\nproduction-grade AI agents tailored for educating AI learners. \\n\\uf0b7 Well-versed in data mining techniques and machine learning models to \\ndevelop a code evaluation agent for various machine learning problem \\ntypes (e.g., tabular regression, tabular and text classification). \\n\\uf0b7 Implemented workflows (CI/CD pipeline) with Github for evaluating \\nlearners’ code. \\n \\nLab Engineer \\nDyson  \\nApril 2022 – August 2023 \\n\\uf0b7 Directed the Singapore Cell Materials Characterization (SCMC) lab team \\nas the Lab Owner and collaborated with multiple stakeholders to set up \\na new materials science lab of >10 equipment.  \\n\\uf0b7 Managed lab operations, operational expense budgeting, procurement, \\nresource allocation and lab processes (booking system, logbook etc).  \\n\\uf0b7 Led the characterisation team to establish a workflow to characterise \\ncritical properties for electrolytes in batteries. \\n\\uf0b7 Consultant and specialist for lab equipment applications and methods \\n(ICP-MS, TGA, DSC, particle size analyzer) to support the development \\nand scale-up of battery manufacturing in Singapore.  \\n \\nFailure Analysis Engineer \\nHP Inc.  \\nMarch 2019 – April 2022 \\n\\uf0b7 Cleaned and transformed lab transaction  data to develop a Power BI \\ndashboard that monitors lab operations activity and customer trends.  \\n', metadata={'source': 'Evelyn_Tan_Chor_Phin_CV.pdf', 'page': 0}), Document(page_content=' \\n  \\n \\n \\n \\n \\n \\n \\n \\n \\uf0b7 Collaborated with cross-functional teams to troubleshoot ink and \\nprinthead manufacturing failures and recommend appropriate \\nlaboratory analysis to drive root cause resolution.  \\n\\uf0b7 Standardized failure analysis workflow and methods for Page-Wide \\nprinthead and worked with US team to share failure analysis learnings.  \\n\\uf0b7 Processed lab analysis data and presented reports to management for \\nproduct risk assessment and decision-making.  \\n\\uf0b7 Established equipment capabilities, methods and verification \\nprocedures for chromatography tools (GC-MS, LC-MS-QTOF, ion \\nchromatography), as well as benchmarked equipment performance \\nwith global HP analytical labs. \\n\\uf0b7 Developed chemical material compatibility framework for evaluation of \\nnew materials in printhead, ink supplies and formulation.  \\n \\nProcess and Equipment Engineer \\nMicron Semiconductor Asia  \\nJuly 2018 – December 2018 \\n\\uf0b7 Meticulously managed 2 key diffusion processes by monitoring and \\noptimizing process parameters and yield.  \\n\\uf0b7 Resolved process issues by investigating trends against processes from \\nother modules and drawing insights from trends.  \\n\\uf0b7 Collaborated with cross-functional teams to identify opportunities and \\ninitiate projects to improve process yield, quality and cost. \\n \\n \\n \\n \\n ', metadata={'source': 'Evelyn_Tan_Chor_Phin_CV.pdf', 'page': 1})]\n",
      "before [Document(page_content=' \\n  \\nEVELYN TAN \\nCHOR PHIN  \\n \\n +65 96285848 \\n evelyntancp@gmail.com \\n    \\nEDUCATION \\n \\nNational University of Singapore  \\nBachelor of Science, Chemistry, \\nSpecialization in Materials Chemistry \\nHonors with Distinction (4.3/5.0) \\nAugust 2014 – May 2018 \\n \\nTemasek Polytechnic \\nSpecialist Diploma in Business Analytics \\nOctober 2019 – August 2020 \\n \\nRELEVANT SKILLS \\n \\nData Science / Machine Learning  \\n\\uf0b7 Python libraries: Scikit-learn, Keras \\nTensorflow, Pytorch, Transformers, \\nNLTK, Semantic Kernel, Langchain, \\npytest \\n\\uf0b7 ML Ops: Docker, ML flow, Streamlit, \\nFastAPI, Kubernetes \\n\\uf0b7 Database: PostgreSQL \\n\\uf0b7 Cloud services: Azure, Google Cloud \\n\\uf0b7 CI/CD: Gitlab, Github \\n\\uf0b7 Visualization: Power BI, Tableau \\n\\uf0b7 Object-oriented programming \\n\\uf0b7 Bash scripting \\n\\uf0b7 Basic system design \\n\\uf0b7 Software engineering \\n\\uf0b7 Agile framework \\n \\nEngineering \\n\\uf0b7 Process control \\n\\uf0b7 Failure analysis and characterization \\n\\uf0b7 Lab management \\n\\uf0b7 JMP \\n \\nProject Management \\n \\nProblem Solving \\n \\nINTERESTS \\n \\nArtificial Intelligence \\n \\nFinance \\n \\nPhotography \\n \\nTravelling \\n  \\nCAREER OBJECTIVE \\n  \\nAs a Chartered Artificial Intelligence Engineer (associate) with foundations in machine \\nlearning and deep learning, I bring over 5 years of experience from the manufacturing \\nengineering industry. I have recently transitioned to AI engineering, with a focus on \\nLarge Language Models (LLMs) and AI agents. I am keen to contribute to data and AI-\\ndriven solutions  as an AI/ML engineer. \\n \\nPROFESSIONAL EXPERIENCE \\n \\nAI Apprentice (Chartered AI Engineer Associate) \\nAI Singapore \\nAugust 2023 – May 2024 (9-months programme) \\n\\uf0b7 Built chatbots and AI agents using Microsoft Semantic Kernel, \\nLangChain and large language models (LLMs), demonstrating \\nproficiency in natural language processing and generative AI.  \\n\\uf0b7 Applied broad prompt engineering techniques to enhance the \\nperformance of AI agents.  \\n\\uf0b7 Developed different AI agent components as microservices with web-\\nbased endpoints using FastAPI. \\n\\uf0b7 Integrated AI agent components with PostgreSQL database and Azure \\nblob storage.  \\n\\uf0b7 Prototyped and deployed AI applications with tools such as Streamlit, \\nFastAPI, Docker, Kubernetes and Microsoft Azure. \\n\\uf0b7 Built unit tests with PyTest and unittest libraries.  \\n\\uf0b7 Collaborated within an Agile framework with the aim to create \\nproduction-grade AI agents tailored for educating AI learners. \\n\\uf0b7 Well-versed in data mining techniques and machine learning models to \\ndevelop a code evaluation agent for various machine learning problem \\ntypes (e.g., tabular regression, tabular and text classification). \\n\\uf0b7 Implemented workflows (CI/CD pipeline) with Github for evaluating \\nlearners’ code. \\n \\nLab Engineer \\nDyson  \\nApril 2022 – August 2023 \\n\\uf0b7 Directed the Singapore Cell Materials Characterization (SCMC) lab team \\nas the Lab Owner and collaborated with multiple stakeholders to set up \\na new materials science lab of >10 equipment.  \\n\\uf0b7 Managed lab operations, operational expense budgeting, procurement, \\nresource allocation and lab processes (booking system, logbook etc).  \\n\\uf0b7 Led the characterisation team to establish a workflow to characterise \\ncritical properties for electrolytes in batteries. \\n\\uf0b7 Consultant and specialist for lab equipment applications and methods \\n(ICP-MS, TGA, DSC, particle size analyzer) to support the development \\nand scale-up of battery manufacturing in Singapore.  \\n \\nFailure Analysis Engineer \\nHP Inc.  \\nMarch 2019 – April 2022 \\n\\uf0b7 Cleaned and transformed lab transaction  data to develop a Power BI \\ndashboard that monitors lab operations activity and customer trends.  \\n', metadata={'source': 'Evelyn_Tan_Chor_Phin_CV.pdf', 'page': 0}), Document(page_content=' \\n  \\n \\n \\n \\n \\n \\n \\n \\n \\uf0b7 Collaborated with cross-functional teams to troubleshoot ink and \\nprinthead manufacturing failures and recommend appropriate \\nlaboratory analysis to drive root cause resolution.  \\n\\uf0b7 Standardized failure analysis workflow and methods for Page-Wide \\nprinthead and worked with US team to share failure analysis learnings.  \\n\\uf0b7 Processed lab analysis data and presented reports to management for \\nproduct risk assessment and decision-making.  \\n\\uf0b7 Established equipment capabilities, methods and verification \\nprocedures for chromatography tools (GC-MS, LC-MS-QTOF, ion \\nchromatography), as well as benchmarked equipment performance \\nwith global HP analytical labs. \\n\\uf0b7 Developed chemical material compatibility framework for evaluation of \\nnew materials in printhead, ink supplies and formulation.  \\n \\nProcess and Equipment Engineer \\nMicron Semiconductor Asia  \\nJuly 2018 – December 2018 \\n\\uf0b7 Meticulously managed 2 key diffusion processes by monitoring and \\noptimizing process parameters and yield.  \\n\\uf0b7 Resolved process issues by investigating trends against processes from \\nother modules and drawing insights from trends.  \\n\\uf0b7 Collaborated with cross-functional teams to identify opportunities and \\ninitiate projects to improve process yield, quality and cost. \\n \\n \\n \\n \\n ', metadata={'source': 'Evelyn_Tan_Chor_Phin_CV.pdf', 'page': 1}), Document(page_content=' \\n1 \\n120423 \\nTerms and Conditions Governing  the OCBC New 360 Account Promotion  April 2023  \\nV231052023  \\n \\nThe OCBC New 360 Account Promotion April 2023  (the “ Promotion ”) commences from 14 April  2023 and ends on 11 June  2023 \\n(both dates inclusive),  or any such date(s) as may be determined by Oversea -Chinese Banking Corporation Limited (“ OCBC Bank ”) \\nin its sole discretion (“ Promotion Period ”).  \\n \\n1. Eligibility  \\n \\n1.1. The Promotion is open to Eligible  Customers (as defined below) who open a new 360 Account (“New  Account ”) with \\nOCBC Bank during the Promotion Period , and  successfully credit their salary of at least S$ 1,800 per month via GIRO \\nwith the transaction description “GIRO -SALARY” into the New Account within  2 calendar months of the Account \\nopening date  (each, an “Eligible Customer ”). The New Account must be active and in good standing with OCBC Bank \\nuntil the point of fulfilment . \\n \\n1.2. Eligible Customers may  open the New Account through any channels, including through digital channels or at OCBC  \\nBank’s physical branches , to be eligible for this Promotion .  \\n \\n1.3. Customers who close their existing OCBC 360 accounts (opened before the Promotion Period) and re -open a new \\nOCBC 360 account are not eligible to the OCBC 360 Account Offers.   \\n \\n1.4. Employees of OCBC bank  are not eligible for this promotion.  \\n \\n2. Promotion Mechanics  \\n \\n2.1. An Eligible Customer shall be entitled to receive a “Cash Reward ” of S$50.  \\n  \\n2.2. The Cash Reward  (S$50) will be credited to the Eligible Customer’s New 360 Account  within three months of the New \\nAccount opening date.  \\n \\n2.3. Please refer to the table below which illustrates  the relevant timelines for this Promotion .: \\n \\nNew Account opened in:  Salary to be credited by:  Cash Reward s will be \\ncredited by:  \\nApril 2023  June 2023  July 2023  \\nMay 2023  July 2023  August 2023  \\nJune 2023  August 2023  September 2023  \\n \\n2.4. OCBC Bank reserves the right and at any time at its absolute discretion and without giving any reason or notice to \\nwithdraw, clawback, cancel and/or invalidate any Cash Reward awarded to any customer without liability.  A \\ncustomer will not be entitled to a ny payment or compensation whatsoever in respect of such withdrawal, clawback, \\ncancellation or invalidation.  \\n \\n2.5. If any Eligible Customer  is subsequently discovered to be ineligible to participate in the Promotion or to receive the \\nCash Reward , OCBC Bank rese rves the right to (i) forfeit or withdraw the Cash Reward  at any time; or (ii) claw -back \\nthe  Cash Reward  or request the relevant Eligible Customer  to repay to or compensate OCBC Bank the value of the \\nCash Reward   at any time, and OCBC Bank shall have the right to debit the  Cash Reward  as it deems fit from any \\naccount(s) that the Eligible Customer holds with OCBC Bank. No person shall be entitled to any payment or \\ncompensation from OCBC Bank should any cash reward be withdrawn, if any Cash Reward  is reclaimed by OCBC ', metadata={'source': 'ocbc.pdf', 'page': 0}), Document(page_content=' \\n2 \\n120423 \\nBank, or if a  customer is asked to repay or compensate OCBC Bank the value of the Cash  Reward  for any reason  \\nwhatsoever . \\n3. General  \\n \\n3.1. This Promotion shall not apply in conjunction with any other privileges or promotions unless otherwise stated.  \\n \\n3.2. The eligibility of any Eligible Customer to participate in this Promotion and/or receive any  Cash Reward  shall be \\ndetermined at the absolute discretion  of OCBC Bank .  \\n \\n3.3. OCBC Bank reserves the right at its absolute discretion to terminate the Promotion or vary, delete or add to any of \\nthese terms and conditions at any time without notice including, without limi tation, the eligibility of any customer a nd \\nthe dates of the Promotion.  \\n \\n3.4. OCBC Bank shall not be responsible for the quality, merchantability or fitness for any purpose or any other aspect of \\nthe Promotion, or any product and/or service relating to the Pro motion. Notwithstanding anything herein, OCBC Ba nk \\nshall not at any time be responsible or held liable for any defect or malfunction in any product or the deficiency in a ny \\nservice provided, and/or any loss, injury, damage or harm suffered or incurred by o r in connection with the Promotion, \\nand/or the use of any product and/or service relating to the Promotion, by any person.  \\n \\n3.5. OCBC Bank’s decisions on all matters relating to the Promotion shall be final and binding on all participants. No \\ncorrespondence or appeal shall be entertained by OCBC Bank. In the event of any inconsistency between these terms \\nand conditions and any brochure, marketing or promotional material relating to the Promotion, these terms and \\nconditions shall prevail.  \\n \\n3.6. OCBC Bank shall not be  responsible for any loss or damage to any person in connection with the Promotion howsoever \\narising, including any error in computing chances, any breakdown or malfunction in any computer system or \\nequipment, or any notice which is misdirected or lost in the post or in transmission.  \\n \\n3.7. These terms and conditions shall be governed by laws of Singapore and the participants irrevocably submit to the non -\\nexclusive jurisdiction of the courts of Singapore.  A person who is not a party to any agreement governed by thes e \\nterms and conditions shall have no right under the Contracts (Right of Third Parties) Act 2001  to enforce any of thes e \\nterms and conditions.  \\n \\n3.8. By participating in the Promotion, Eligible Custome rs consent to:  \\n \\n(i) OCBC Bank collecting and using their personal data, including but not limited to their names, mobile \\nnumbers, and email addresses, (“Personal Data”) for the purposes of verifying their identity, assessing their \\neligibility for the Promotion , contacting them, and administering the Promotion (including the redemption \\nof any prize, gift, or reward) (the “Purposes”);  \\n \\n(ii) OCBC Bank disclosing their Personal Data to OCBC Bank’s third -party vendors and agencies for the same \\nPurposes; and  \\n \\n(iii) the collection, use and disclosure of their Personal Data for other applicable purposes in accordance with \\nOCBC’s Data Protection Policy (accessible at: https://www.ocbc.com/personal -banking/policies).  \\n ', metadata={'source': 'ocbc.pdf', 'page': 1})]\n",
      "after [Document(page_content='EVELYN TAN \\nCHOR PHIN  \\n \\n +65 96285848 \\n evelyntancp@gmail.com \\n    \\nEDUCATION \\n \\nNational University of Singapore  \\nBachelor of Science, Chemistry,', metadata={'source': 'Evelyn_Tan_Chor_Phin_CV.pdf', 'page': 0}), Document(page_content='Specialization in Materials Chemistry \\nHonors with Distinction (4.3/5.0) \\nAugust 2014 – May 2018 \\n \\nTemasek Polytechnic \\nSpecialist Diploma in Business Analytics', metadata={'source': 'Evelyn_Tan_Chor_Phin_CV.pdf', 'page': 0}), Document(page_content='October 2019 – August 2020 \\n \\nRELEVANT SKILLS \\n \\nData Science / Machine Learning  \\n\\uf0b7 Python libraries: Scikit-learn, Keras \\nTensorflow, Pytorch, Transformers,', metadata={'source': 'Evelyn_Tan_Chor_Phin_CV.pdf', 'page': 0}), Document(page_content='NLTK, Semantic Kernel, Langchain, \\npytest \\n\\uf0b7 ML Ops: Docker, ML flow, Streamlit, \\nFastAPI, Kubernetes \\n\\uf0b7 Database: PostgreSQL \\n\\uf0b7 Cloud services: Azure, Google Cloud', metadata={'source': 'Evelyn_Tan_Chor_Phin_CV.pdf', 'page': 0}), Document(page_content='\\uf0b7 CI/CD: Gitlab, Github \\n\\uf0b7 Visualization: Power BI, Tableau \\n\\uf0b7 Object-oriented programming \\n\\uf0b7 Bash scripting \\n\\uf0b7 Basic system design \\n\\uf0b7 Software engineering \\n\\uf0b7 Agile framework', metadata={'source': 'Evelyn_Tan_Chor_Phin_CV.pdf', 'page': 0}), Document(page_content='Engineering \\n\\uf0b7 Process control \\n\\uf0b7 Failure analysis and characterization \\n\\uf0b7 Lab management \\n\\uf0b7 JMP \\n \\nProject Management \\n \\nProblem Solving \\n \\nINTERESTS', metadata={'source': 'Evelyn_Tan_Chor_Phin_CV.pdf', 'page': 0}), Document(page_content='INTERESTS \\n \\nArtificial Intelligence \\n \\nFinance \\n \\nPhotography \\n \\nTravelling \\n  \\nCAREER OBJECTIVE', metadata={'source': 'Evelyn_Tan_Chor_Phin_CV.pdf', 'page': 0}), Document(page_content='As a Chartered Artificial Intelligence Engineer (associate) with foundations in machine \\nlearning and deep learning, I bring over 5 years of experience from the manufacturing', metadata={'source': 'Evelyn_Tan_Chor_Phin_CV.pdf', 'page': 0}), Document(page_content='engineering industry. I have recently transitioned to AI engineering, with a focus on \\nLarge Language Models (LLMs) and AI agents. I am keen to contribute to data and AI-', metadata={'source': 'Evelyn_Tan_Chor_Phin_CV.pdf', 'page': 0}), Document(page_content='driven solutions  as an AI/ML engineer. \\n \\nPROFESSIONAL EXPERIENCE \\n \\nAI Apprentice (Chartered AI Engineer Associate) \\nAI Singapore \\nAugust 2023 – May 2024 (9-months programme)', metadata={'source': 'Evelyn_Tan_Chor_Phin_CV.pdf', 'page': 0}), Document(page_content='\\uf0b7 Built chatbots and AI agents using Microsoft Semantic Kernel, \\nLangChain and large language models (LLMs), demonstrating', metadata={'source': 'Evelyn_Tan_Chor_Phin_CV.pdf', 'page': 0}), Document(page_content='proficiency in natural language processing and generative AI.  \\n\\uf0b7 Applied broad prompt engineering techniques to enhance the \\nperformance of AI agents.', metadata={'source': 'Evelyn_Tan_Chor_Phin_CV.pdf', 'page': 0}), Document(page_content='\\uf0b7 Developed different AI agent components as microservices with web-\\nbased endpoints using FastAPI. \\n\\uf0b7 Integrated AI agent components with PostgreSQL database and Azure', metadata={'source': 'Evelyn_Tan_Chor_Phin_CV.pdf', 'page': 0}), Document(page_content='blob storage.  \\n\\uf0b7 Prototyped and deployed AI applications with tools such as Streamlit, \\nFastAPI, Docker, Kubernetes and Microsoft Azure.', metadata={'source': 'Evelyn_Tan_Chor_Phin_CV.pdf', 'page': 0}), Document(page_content='\\uf0b7 Built unit tests with PyTest and unittest libraries.  \\n\\uf0b7 Collaborated within an Agile framework with the aim to create', metadata={'source': 'Evelyn_Tan_Chor_Phin_CV.pdf', 'page': 0}), Document(page_content='production-grade AI agents tailored for educating AI learners. \\n\\uf0b7 Well-versed in data mining techniques and machine learning models to', metadata={'source': 'Evelyn_Tan_Chor_Phin_CV.pdf', 'page': 0}), Document(page_content='develop a code evaluation agent for various machine learning problem \\ntypes (e.g., tabular regression, tabular and text classification).', metadata={'source': 'Evelyn_Tan_Chor_Phin_CV.pdf', 'page': 0}), Document(page_content='\\uf0b7 Implemented workflows (CI/CD pipeline) with Github for evaluating \\nlearners’ code. \\n \\nLab Engineer \\nDyson  \\nApril 2022 – August 2023', metadata={'source': 'Evelyn_Tan_Chor_Phin_CV.pdf', 'page': 0}), Document(page_content='\\uf0b7 Directed the Singapore Cell Materials Characterization (SCMC) lab team \\nas the Lab Owner and collaborated with multiple stakeholders to set up', metadata={'source': 'Evelyn_Tan_Chor_Phin_CV.pdf', 'page': 0}), Document(page_content='a new materials science lab of >10 equipment.  \\n\\uf0b7 Managed lab operations, operational expense budgeting, procurement,', metadata={'source': 'Evelyn_Tan_Chor_Phin_CV.pdf', 'page': 0}), Document(page_content='resource allocation and lab processes (booking system, logbook etc).  \\n\\uf0b7 Led the characterisation team to establish a workflow to characterise', metadata={'source': 'Evelyn_Tan_Chor_Phin_CV.pdf', 'page': 0}), Document(page_content='critical properties for electrolytes in batteries. \\n\\uf0b7 Consultant and specialist for lab equipment applications and methods', metadata={'source': 'Evelyn_Tan_Chor_Phin_CV.pdf', 'page': 0}), Document(page_content='(ICP-MS, TGA, DSC, particle size analyzer) to support the development \\nand scale-up of battery manufacturing in Singapore.  \\n \\nFailure Analysis Engineer \\nHP Inc.', metadata={'source': 'Evelyn_Tan_Chor_Phin_CV.pdf', 'page': 0}), Document(page_content='HP Inc.  \\nMarch 2019 – April 2022 \\n\\uf0b7 Cleaned and transformed lab transaction  data to develop a Power BI \\ndashboard that monitors lab operations activity and customer trends.', metadata={'source': 'Evelyn_Tan_Chor_Phin_CV.pdf', 'page': 0}), Document(page_content='\\uf0b7 Collaborated with cross-functional teams to troubleshoot ink and \\nprinthead manufacturing failures and recommend appropriate', metadata={'source': 'Evelyn_Tan_Chor_Phin_CV.pdf', 'page': 1}), Document(page_content='laboratory analysis to drive root cause resolution.  \\n\\uf0b7 Standardized failure analysis workflow and methods for Page-Wide', metadata={'source': 'Evelyn_Tan_Chor_Phin_CV.pdf', 'page': 1}), Document(page_content='printhead and worked with US team to share failure analysis learnings.  \\n\\uf0b7 Processed lab analysis data and presented reports to management for', metadata={'source': 'Evelyn_Tan_Chor_Phin_CV.pdf', 'page': 1}), Document(page_content='product risk assessment and decision-making.  \\n\\uf0b7 Established equipment capabilities, methods and verification \\nprocedures for chromatography tools (GC-MS, LC-MS-QTOF, ion', metadata={'source': 'Evelyn_Tan_Chor_Phin_CV.pdf', 'page': 1}), Document(page_content='chromatography), as well as benchmarked equipment performance \\nwith global HP analytical labs. \\n\\uf0b7 Developed chemical material compatibility framework for evaluation of', metadata={'source': 'Evelyn_Tan_Chor_Phin_CV.pdf', 'page': 1}), Document(page_content='new materials in printhead, ink supplies and formulation.  \\n \\nProcess and Equipment Engineer \\nMicron Semiconductor Asia  \\nJuly 2018 – December 2018', metadata={'source': 'Evelyn_Tan_Chor_Phin_CV.pdf', 'page': 1}), Document(page_content='\\uf0b7 Meticulously managed 2 key diffusion processes by monitoring and \\noptimizing process parameters and yield.', metadata={'source': 'Evelyn_Tan_Chor_Phin_CV.pdf', 'page': 1}), Document(page_content='\\uf0b7 Resolved process issues by investigating trends against processes from \\nother modules and drawing insights from trends.', metadata={'source': 'Evelyn_Tan_Chor_Phin_CV.pdf', 'page': 1}), Document(page_content='\\uf0b7 Collaborated with cross-functional teams to identify opportunities and \\ninitiate projects to improve process yield, quality and cost.', metadata={'source': 'Evelyn_Tan_Chor_Phin_CV.pdf', 'page': 1}), Document(page_content='1 \\n120423 \\nTerms and Conditions Governing  the OCBC New 360 Account Promotion  April 2023  \\nV231052023', metadata={'source': 'ocbc.pdf', 'page': 0}), Document(page_content='V231052023  \\n \\nThe OCBC New 360 Account Promotion April 2023  (the “ Promotion ”) commences from 14 April  2023 and ends on 11 June  2023', metadata={'source': 'ocbc.pdf', 'page': 0}), Document(page_content='(both dates inclusive),  or any such date(s) as may be determined by Oversea -Chinese Banking Corporation Limited (“ OCBC Bank ”) \\nin its sole discretion (“ Promotion Period ”).', metadata={'source': 'ocbc.pdf', 'page': 0}), Document(page_content='1. Eligibility  \\n \\n1.1. The Promotion is open to Eligible  Customers (as defined below) who open a new 360 Account (“New  Account ”) with', metadata={'source': 'ocbc.pdf', 'page': 0}), Document(page_content='OCBC Bank during the Promotion Period , and  successfully credit their salary of at least S$ 1,800 per month via GIRO', metadata={'source': 'ocbc.pdf', 'page': 0}), Document(page_content='with the transaction description “GIRO -SALARY” into the New Account within  2 calendar months of the Account', metadata={'source': 'ocbc.pdf', 'page': 0}), Document(page_content='opening date  (each, an “Eligible Customer ”). The New Account must be active and in good standing with OCBC Bank \\nuntil the point of fulfilment .', metadata={'source': 'ocbc.pdf', 'page': 0}), Document(page_content='1.2. Eligible Customers may  open the New Account through any channels, including through digital channels or at OCBC', metadata={'source': 'ocbc.pdf', 'page': 0}), Document(page_content='Bank’s physical branches , to be eligible for this Promotion .', metadata={'source': 'ocbc.pdf', 'page': 0}), Document(page_content='1.3. Customers who close their existing OCBC 360 accounts (opened before the Promotion Period) and re -open a new', metadata={'source': 'ocbc.pdf', 'page': 0}), Document(page_content='OCBC 360 account are not eligible to the OCBC 360 Account Offers.   \\n \\n1.4. Employees of OCBC bank  are not eligible for this promotion.  \\n \\n2. Promotion Mechanics', metadata={'source': 'ocbc.pdf', 'page': 0}), Document(page_content='2.1. An Eligible Customer shall be entitled to receive a “Cash Reward ” of S$50.', metadata={'source': 'ocbc.pdf', 'page': 0}), Document(page_content='2.2. The Cash Reward  (S$50) will be credited to the Eligible Customer’s New 360 Account  within three months of the New \\nAccount opening date.', metadata={'source': 'ocbc.pdf', 'page': 0}), Document(page_content='2.3. Please refer to the table below which illustrates  the relevant timelines for this Promotion .: \\n \\nNew Account opened in:  Salary to be credited by:  Cash Reward s will be', metadata={'source': 'ocbc.pdf', 'page': 0}), Document(page_content='credited by:  \\nApril 2023  June 2023  July 2023  \\nMay 2023  July 2023  August 2023  \\nJune 2023  August 2023  September 2023', metadata={'source': 'ocbc.pdf', 'page': 0}), Document(page_content='2.4. OCBC Bank reserves the right and at any time at its absolute discretion and without giving any reason or notice to', metadata={'source': 'ocbc.pdf', 'page': 0}), Document(page_content='withdraw, clawback, cancel and/or invalidate any Cash Reward awarded to any customer without liability.  A', metadata={'source': 'ocbc.pdf', 'page': 0}), Document(page_content='customer will not be entitled to a ny payment or compensation whatsoever in respect of such withdrawal, clawback, \\ncancellation or invalidation.', metadata={'source': 'ocbc.pdf', 'page': 0}), Document(page_content='2.5. If any Eligible Customer  is subsequently discovered to be ineligible to participate in the Promotion or to receive the', metadata={'source': 'ocbc.pdf', 'page': 0}), Document(page_content='Cash Reward , OCBC Bank rese rves the right to (i) forfeit or withdraw the Cash Reward  at any time; or (ii) claw -back', metadata={'source': 'ocbc.pdf', 'page': 0}), Document(page_content='the  Cash Reward  or request the relevant Eligible Customer  to repay to or compensate OCBC Bank the value of the', metadata={'source': 'ocbc.pdf', 'page': 0}), Document(page_content='Cash Reward   at any time, and OCBC Bank shall have the right to debit the  Cash Reward  as it deems fit from any', metadata={'source': 'ocbc.pdf', 'page': 0}), Document(page_content='account(s) that the Eligible Customer holds with OCBC Bank. No person shall be entitled to any payment or', metadata={'source': 'ocbc.pdf', 'page': 0}), Document(page_content='compensation from OCBC Bank should any cash reward be withdrawn, if any Cash Reward  is reclaimed by OCBC', metadata={'source': 'ocbc.pdf', 'page': 0}), Document(page_content='2 \\n120423 \\nBank, or if a  customer is asked to repay or compensate OCBC Bank the value of the Cash  Reward  for any reason  \\nwhatsoever . \\n3. General', metadata={'source': 'ocbc.pdf', 'page': 1}), Document(page_content='3. General  \\n \\n3.1. This Promotion shall not apply in conjunction with any other privileges or promotions unless otherwise stated.', metadata={'source': 'ocbc.pdf', 'page': 1}), Document(page_content='3.2. The eligibility of any Eligible Customer to participate in this Promotion and/or receive any  Cash Reward  shall be \\ndetermined at the absolute discretion  of OCBC Bank .', metadata={'source': 'ocbc.pdf', 'page': 1}), Document(page_content='3.3. OCBC Bank reserves the right at its absolute discretion to terminate the Promotion or vary, delete or add to any of', metadata={'source': 'ocbc.pdf', 'page': 1}), Document(page_content='these terms and conditions at any time without notice including, without limi tation, the eligibility of any customer a nd \\nthe dates of the Promotion.', metadata={'source': 'ocbc.pdf', 'page': 1}), Document(page_content='3.4. OCBC Bank shall not be responsible for the quality, merchantability or fitness for any purpose or any other aspect of', metadata={'source': 'ocbc.pdf', 'page': 1}), Document(page_content='the Promotion, or any product and/or service relating to the Pro motion. Notwithstanding anything herein, OCBC Ba nk', metadata={'source': 'ocbc.pdf', 'page': 1}), Document(page_content='shall not at any time be responsible or held liable for any defect or malfunction in any product or the deficiency in a ny', metadata={'source': 'ocbc.pdf', 'page': 1}), Document(page_content='service provided, and/or any loss, injury, damage or harm suffered or incurred by o r in connection with the Promotion,', metadata={'source': 'ocbc.pdf', 'page': 1}), Document(page_content='and/or the use of any product and/or service relating to the Promotion, by any person.', metadata={'source': 'ocbc.pdf', 'page': 1}), Document(page_content='3.5. OCBC Bank’s decisions on all matters relating to the Promotion shall be final and binding on all participants. No', metadata={'source': 'ocbc.pdf', 'page': 1}), Document(page_content='correspondence or appeal shall be entertained by OCBC Bank. In the event of any inconsistency between these terms', metadata={'source': 'ocbc.pdf', 'page': 1}), Document(page_content='and conditions and any brochure, marketing or promotional material relating to the Promotion, these terms and \\nconditions shall prevail.', metadata={'source': 'ocbc.pdf', 'page': 1}), Document(page_content='3.6. OCBC Bank shall not be  responsible for any loss or damage to any person in connection with the Promotion howsoever', metadata={'source': 'ocbc.pdf', 'page': 1}), Document(page_content='arising, including any error in computing chances, any breakdown or malfunction in any computer system or', metadata={'source': 'ocbc.pdf', 'page': 1}), Document(page_content='equipment, or any notice which is misdirected or lost in the post or in transmission.', metadata={'source': 'ocbc.pdf', 'page': 1}), Document(page_content='3.7. These terms and conditions shall be governed by laws of Singapore and the participants irrevocably submit to the non -', metadata={'source': 'ocbc.pdf', 'page': 1}), Document(page_content='exclusive jurisdiction of the courts of Singapore.  A person who is not a party to any agreement governed by thes e', metadata={'source': 'ocbc.pdf', 'page': 1}), Document(page_content='terms and conditions shall have no right under the Contracts (Right of Third Parties) Act 2001  to enforce any of thes e \\nterms and conditions.', metadata={'source': 'ocbc.pdf', 'page': 1}), Document(page_content='3.8. By participating in the Promotion, Eligible Custome rs consent to:', metadata={'source': 'ocbc.pdf', 'page': 1}), Document(page_content='(i) OCBC Bank collecting and using their personal data, including but not limited to their names, mobile', metadata={'source': 'ocbc.pdf', 'page': 1}), Document(page_content='numbers, and email addresses, (“Personal Data”) for the purposes of verifying their identity, assessing their', metadata={'source': 'ocbc.pdf', 'page': 1}), Document(page_content='eligibility for the Promotion , contacting them, and administering the Promotion (including the redemption \\nof any prize, gift, or reward) (the “Purposes”);', metadata={'source': 'ocbc.pdf', 'page': 1}), Document(page_content='(ii) OCBC Bank disclosing their Personal Data to OCBC Bank’s third -party vendors and agencies for the same \\nPurposes; and', metadata={'source': 'ocbc.pdf', 'page': 1}), Document(page_content='Purposes; and  \\n \\n(iii) the collection, use and disclosure of their Personal Data for other applicable purposes in accordance with', metadata={'source': 'ocbc.pdf', 'page': 1}), Document(page_content='OCBC’s Data Protection Policy (accessible at: https://www.ocbc.com/personal -banking/policies).', metadata={'source': 'ocbc.pdf', 'page': 1})]\n"
     ]
    }
   ],
   "source": [
    "docs_after_split = load_and_split_documents([\"Evelyn_Tan_Chor_Phin_CV.pdf\", \"ocbc.pdf\"])"
   ]
  },
  {
   "cell_type": "code",
   "execution_count": 15,
   "metadata": {},
   "outputs": [
    {
     "name": "stdout",
     "output_type": "stream",
     "text": [
      "page_content='EVELYN TAN \\nCHOR PHIN  \\n \\n +65 96285848 \\n evelyntancp@gmail.com \\n    \\nEDUCATION \\n \\nNational University of Singapore  \\nBachelor of Science, Chemistry,' metadata={'source': 'Evelyn_Tan_Chor_Phin_CV.pdf', 'page': 0}\n",
      "page_content='Specialization in Materials Chemistry \\nHonors with Distinction (4.3/5.0) \\nAugust 2014 – May 2018 \\n \\nTemasek Polytechnic \\nSpecialist Diploma in Business Analytics' metadata={'source': 'Evelyn_Tan_Chor_Phin_CV.pdf', 'page': 0}\n",
      "page_content='October 2019 – August 2020 \\n \\nRELEVANT SKILLS \\n \\nData Science / Machine Learning  \\n\\uf0b7 Python libraries: Scikit-learn, Keras \\nTensorflow, Pytorch, Transformers,' metadata={'source': 'Evelyn_Tan_Chor_Phin_CV.pdf', 'page': 0}\n",
      "page_content='NLTK, Semantic Kernel, Langchain, \\npytest \\n\\uf0b7 ML Ops: Docker, ML flow, Streamlit, \\nFastAPI, Kubernetes \\n\\uf0b7 Database: PostgreSQL \\n\\uf0b7 Cloud services: Azure, Google Cloud' metadata={'source': 'Evelyn_Tan_Chor_Phin_CV.pdf', 'page': 0}\n",
      "page_content='\\uf0b7 CI/CD: Gitlab, Github \\n\\uf0b7 Visualization: Power BI, Tableau \\n\\uf0b7 Object-oriented programming \\n\\uf0b7 Bash scripting \\n\\uf0b7 Basic system design \\n\\uf0b7 Software engineering \\n\\uf0b7 Agile framework' metadata={'source': 'Evelyn_Tan_Chor_Phin_CV.pdf', 'page': 0}\n",
      "page_content='Engineering \\n\\uf0b7 Process control \\n\\uf0b7 Failure analysis and characterization \\n\\uf0b7 Lab management \\n\\uf0b7 JMP \\n \\nProject Management \\n \\nProblem Solving \\n \\nINTERESTS' metadata={'source': 'Evelyn_Tan_Chor_Phin_CV.pdf', 'page': 0}\n",
      "page_content='INTERESTS \\n \\nArtificial Intelligence \\n \\nFinance \\n \\nPhotography \\n \\nTravelling \\n  \\nCAREER OBJECTIVE' metadata={'source': 'Evelyn_Tan_Chor_Phin_CV.pdf', 'page': 0}\n",
      "page_content='As a Chartered Artificial Intelligence Engineer (associate) with foundations in machine \\nlearning and deep learning, I bring over 5 years of experience from the manufacturing' metadata={'source': 'Evelyn_Tan_Chor_Phin_CV.pdf', 'page': 0}\n",
      "page_content='engineering industry. I have recently transitioned to AI engineering, with a focus on \\nLarge Language Models (LLMs) and AI agents. I am keen to contribute to data and AI-' metadata={'source': 'Evelyn_Tan_Chor_Phin_CV.pdf', 'page': 0}\n",
      "page_content='driven solutions  as an AI/ML engineer. \\n \\nPROFESSIONAL EXPERIENCE \\n \\nAI Apprentice (Chartered AI Engineer Associate) \\nAI Singapore \\nAugust 2023 – May 2024 (9-months programme)' metadata={'source': 'Evelyn_Tan_Chor_Phin_CV.pdf', 'page': 0}\n",
      "page_content='\\uf0b7 Built chatbots and AI agents using Microsoft Semantic Kernel, \\nLangChain and large language models (LLMs), demonstrating' metadata={'source': 'Evelyn_Tan_Chor_Phin_CV.pdf', 'page': 0}\n",
      "page_content='proficiency in natural language processing and generative AI.  \\n\\uf0b7 Applied broad prompt engineering techniques to enhance the \\nperformance of AI agents.' metadata={'source': 'Evelyn_Tan_Chor_Phin_CV.pdf', 'page': 0}\n",
      "page_content='\\uf0b7 Developed different AI agent components as microservices with web-\\nbased endpoints using FastAPI. \\n\\uf0b7 Integrated AI agent components with PostgreSQL database and Azure' metadata={'source': 'Evelyn_Tan_Chor_Phin_CV.pdf', 'page': 0}\n",
      "page_content='blob storage.  \\n\\uf0b7 Prototyped and deployed AI applications with tools such as Streamlit, \\nFastAPI, Docker, Kubernetes and Microsoft Azure.' metadata={'source': 'Evelyn_Tan_Chor_Phin_CV.pdf', 'page': 0}\n",
      "page_content='\\uf0b7 Built unit tests with PyTest and unittest libraries.  \\n\\uf0b7 Collaborated within an Agile framework with the aim to create' metadata={'source': 'Evelyn_Tan_Chor_Phin_CV.pdf', 'page': 0}\n",
      "page_content='production-grade AI agents tailored for educating AI learners. \\n\\uf0b7 Well-versed in data mining techniques and machine learning models to' metadata={'source': 'Evelyn_Tan_Chor_Phin_CV.pdf', 'page': 0}\n",
      "page_content='develop a code evaluation agent for various machine learning problem \\ntypes (e.g., tabular regression, tabular and text classification).' metadata={'source': 'Evelyn_Tan_Chor_Phin_CV.pdf', 'page': 0}\n",
      "page_content='\\uf0b7 Implemented workflows (CI/CD pipeline) with Github for evaluating \\nlearners’ code. \\n \\nLab Engineer \\nDyson  \\nApril 2022 – August 2023' metadata={'source': 'Evelyn_Tan_Chor_Phin_CV.pdf', 'page': 0}\n",
      "page_content='\\uf0b7 Directed the Singapore Cell Materials Characterization (SCMC) lab team \\nas the Lab Owner and collaborated with multiple stakeholders to set up' metadata={'source': 'Evelyn_Tan_Chor_Phin_CV.pdf', 'page': 0}\n",
      "page_content='a new materials science lab of >10 equipment.  \\n\\uf0b7 Managed lab operations, operational expense budgeting, procurement,' metadata={'source': 'Evelyn_Tan_Chor_Phin_CV.pdf', 'page': 0}\n",
      "page_content='resource allocation and lab processes (booking system, logbook etc).  \\n\\uf0b7 Led the characterisation team to establish a workflow to characterise' metadata={'source': 'Evelyn_Tan_Chor_Phin_CV.pdf', 'page': 0}\n",
      "page_content='critical properties for electrolytes in batteries. \\n\\uf0b7 Consultant and specialist for lab equipment applications and methods' metadata={'source': 'Evelyn_Tan_Chor_Phin_CV.pdf', 'page': 0}\n",
      "page_content='(ICP-MS, TGA, DSC, particle size analyzer) to support the development \\nand scale-up of battery manufacturing in Singapore.  \\n \\nFailure Analysis Engineer \\nHP Inc.' metadata={'source': 'Evelyn_Tan_Chor_Phin_CV.pdf', 'page': 0}\n",
      "page_content='HP Inc.  \\nMarch 2019 – April 2022 \\n\\uf0b7 Cleaned and transformed lab transaction  data to develop a Power BI \\ndashboard that monitors lab operations activity and customer trends.' metadata={'source': 'Evelyn_Tan_Chor_Phin_CV.pdf', 'page': 0}\n",
      "page_content='\\uf0b7 Collaborated with cross-functional teams to troubleshoot ink and \\nprinthead manufacturing failures and recommend appropriate' metadata={'source': 'Evelyn_Tan_Chor_Phin_CV.pdf', 'page': 1}\n",
      "page_content='laboratory analysis to drive root cause resolution.  \\n\\uf0b7 Standardized failure analysis workflow and methods for Page-Wide' metadata={'source': 'Evelyn_Tan_Chor_Phin_CV.pdf', 'page': 1}\n",
      "page_content='printhead and worked with US team to share failure analysis learnings.  \\n\\uf0b7 Processed lab analysis data and presented reports to management for' metadata={'source': 'Evelyn_Tan_Chor_Phin_CV.pdf', 'page': 1}\n",
      "page_content='product risk assessment and decision-making.  \\n\\uf0b7 Established equipment capabilities, methods and verification \\nprocedures for chromatography tools (GC-MS, LC-MS-QTOF, ion' metadata={'source': 'Evelyn_Tan_Chor_Phin_CV.pdf', 'page': 1}\n",
      "page_content='chromatography), as well as benchmarked equipment performance \\nwith global HP analytical labs. \\n\\uf0b7 Developed chemical material compatibility framework for evaluation of' metadata={'source': 'Evelyn_Tan_Chor_Phin_CV.pdf', 'page': 1}\n",
      "page_content='new materials in printhead, ink supplies and formulation.  \\n \\nProcess and Equipment Engineer \\nMicron Semiconductor Asia  \\nJuly 2018 – December 2018' metadata={'source': 'Evelyn_Tan_Chor_Phin_CV.pdf', 'page': 1}\n",
      "page_content='\\uf0b7 Meticulously managed 2 key diffusion processes by monitoring and \\noptimizing process parameters and yield.' metadata={'source': 'Evelyn_Tan_Chor_Phin_CV.pdf', 'page': 1}\n",
      "page_content='\\uf0b7 Resolved process issues by investigating trends against processes from \\nother modules and drawing insights from trends.' metadata={'source': 'Evelyn_Tan_Chor_Phin_CV.pdf', 'page': 1}\n",
      "page_content='\\uf0b7 Collaborated with cross-functional teams to identify opportunities and \\ninitiate projects to improve process yield, quality and cost.' metadata={'source': 'Evelyn_Tan_Chor_Phin_CV.pdf', 'page': 1}\n",
      "page_content='1 \\n120423 \\nTerms and Conditions Governing  the OCBC New 360 Account Promotion  April 2023  \\nV231052023' metadata={'source': 'ocbc.pdf', 'page': 0}\n",
      "page_content='V231052023  \\n \\nThe OCBC New 360 Account Promotion April 2023  (the “ Promotion ”) commences from 14 April  2023 and ends on 11 June  2023' metadata={'source': 'ocbc.pdf', 'page': 0}\n",
      "page_content='(both dates inclusive),  or any such date(s) as may be determined by Oversea -Chinese Banking Corporation Limited (“ OCBC Bank ”) \\nin its sole discretion (“ Promotion Period ”).' metadata={'source': 'ocbc.pdf', 'page': 0}\n",
      "page_content='1. Eligibility  \\n \\n1.1. The Promotion is open to Eligible  Customers (as defined below) who open a new 360 Account (“New  Account ”) with' metadata={'source': 'ocbc.pdf', 'page': 0}\n",
      "page_content='OCBC Bank during the Promotion Period , and  successfully credit their salary of at least S$ 1,800 per month via GIRO' metadata={'source': 'ocbc.pdf', 'page': 0}\n",
      "page_content='with the transaction description “GIRO -SALARY” into the New Account within  2 calendar months of the Account' metadata={'source': 'ocbc.pdf', 'page': 0}\n",
      "page_content='opening date  (each, an “Eligible Customer ”). The New Account must be active and in good standing with OCBC Bank \\nuntil the point of fulfilment .' metadata={'source': 'ocbc.pdf', 'page': 0}\n",
      "page_content='1.2. Eligible Customers may  open the New Account through any channels, including through digital channels or at OCBC' metadata={'source': 'ocbc.pdf', 'page': 0}\n",
      "page_content='Bank’s physical branches , to be eligible for this Promotion .' metadata={'source': 'ocbc.pdf', 'page': 0}\n",
      "page_content='1.3. Customers who close their existing OCBC 360 accounts (opened before the Promotion Period) and re -open a new' metadata={'source': 'ocbc.pdf', 'page': 0}\n",
      "page_content='OCBC 360 account are not eligible to the OCBC 360 Account Offers.   \\n \\n1.4. Employees of OCBC bank  are not eligible for this promotion.  \\n \\n2. Promotion Mechanics' metadata={'source': 'ocbc.pdf', 'page': 0}\n",
      "page_content='2.1. An Eligible Customer shall be entitled to receive a “Cash Reward ” of S$50.' metadata={'source': 'ocbc.pdf', 'page': 0}\n",
      "page_content='2.2. The Cash Reward  (S$50) will be credited to the Eligible Customer’s New 360 Account  within three months of the New \\nAccount opening date.' metadata={'source': 'ocbc.pdf', 'page': 0}\n",
      "page_content='2.3. Please refer to the table below which illustrates  the relevant timelines for this Promotion .: \\n \\nNew Account opened in:  Salary to be credited by:  Cash Reward s will be' metadata={'source': 'ocbc.pdf', 'page': 0}\n",
      "page_content='credited by:  \\nApril 2023  June 2023  July 2023  \\nMay 2023  July 2023  August 2023  \\nJune 2023  August 2023  September 2023' metadata={'source': 'ocbc.pdf', 'page': 0}\n",
      "page_content='2.4. OCBC Bank reserves the right and at any time at its absolute discretion and without giving any reason or notice to' metadata={'source': 'ocbc.pdf', 'page': 0}\n",
      "page_content='withdraw, clawback, cancel and/or invalidate any Cash Reward awarded to any customer without liability.  A' metadata={'source': 'ocbc.pdf', 'page': 0}\n",
      "page_content='customer will not be entitled to a ny payment or compensation whatsoever in respect of such withdrawal, clawback, \\ncancellation or invalidation.' metadata={'source': 'ocbc.pdf', 'page': 0}\n",
      "page_content='2.5. If any Eligible Customer  is subsequently discovered to be ineligible to participate in the Promotion or to receive the' metadata={'source': 'ocbc.pdf', 'page': 0}\n",
      "page_content='Cash Reward , OCBC Bank rese rves the right to (i) forfeit or withdraw the Cash Reward  at any time; or (ii) claw -back' metadata={'source': 'ocbc.pdf', 'page': 0}\n",
      "page_content='the  Cash Reward  or request the relevant Eligible Customer  to repay to or compensate OCBC Bank the value of the' metadata={'source': 'ocbc.pdf', 'page': 0}\n",
      "page_content='Cash Reward   at any time, and OCBC Bank shall have the right to debit the  Cash Reward  as it deems fit from any' metadata={'source': 'ocbc.pdf', 'page': 0}\n",
      "page_content='account(s) that the Eligible Customer holds with OCBC Bank. No person shall be entitled to any payment or' metadata={'source': 'ocbc.pdf', 'page': 0}\n",
      "page_content='compensation from OCBC Bank should any cash reward be withdrawn, if any Cash Reward  is reclaimed by OCBC' metadata={'source': 'ocbc.pdf', 'page': 0}\n",
      "page_content='2 \\n120423 \\nBank, or if a  customer is asked to repay or compensate OCBC Bank the value of the Cash  Reward  for any reason  \\nwhatsoever . \\n3. General' metadata={'source': 'ocbc.pdf', 'page': 1}\n",
      "page_content='3. General  \\n \\n3.1. This Promotion shall not apply in conjunction with any other privileges or promotions unless otherwise stated.' metadata={'source': 'ocbc.pdf', 'page': 1}\n",
      "page_content='3.2. The eligibility of any Eligible Customer to participate in this Promotion and/or receive any  Cash Reward  shall be \\ndetermined at the absolute discretion  of OCBC Bank .' metadata={'source': 'ocbc.pdf', 'page': 1}\n",
      "page_content='3.3. OCBC Bank reserves the right at its absolute discretion to terminate the Promotion or vary, delete or add to any of' metadata={'source': 'ocbc.pdf', 'page': 1}\n",
      "page_content='these terms and conditions at any time without notice including, without limi tation, the eligibility of any customer a nd \\nthe dates of the Promotion.' metadata={'source': 'ocbc.pdf', 'page': 1}\n",
      "page_content='3.4. OCBC Bank shall not be responsible for the quality, merchantability or fitness for any purpose or any other aspect of' metadata={'source': 'ocbc.pdf', 'page': 1}\n",
      "page_content='the Promotion, or any product and/or service relating to the Pro motion. Notwithstanding anything herein, OCBC Ba nk' metadata={'source': 'ocbc.pdf', 'page': 1}\n",
      "page_content='shall not at any time be responsible or held liable for any defect or malfunction in any product or the deficiency in a ny' metadata={'source': 'ocbc.pdf', 'page': 1}\n",
      "page_content='service provided, and/or any loss, injury, damage or harm suffered or incurred by o r in connection with the Promotion,' metadata={'source': 'ocbc.pdf', 'page': 1}\n",
      "page_content='and/or the use of any product and/or service relating to the Promotion, by any person.' metadata={'source': 'ocbc.pdf', 'page': 1}\n",
      "page_content='3.5. OCBC Bank’s decisions on all matters relating to the Promotion shall be final and binding on all participants. No' metadata={'source': 'ocbc.pdf', 'page': 1}\n",
      "page_content='correspondence or appeal shall be entertained by OCBC Bank. In the event of any inconsistency between these terms' metadata={'source': 'ocbc.pdf', 'page': 1}\n",
      "page_content='and conditions and any brochure, marketing or promotional material relating to the Promotion, these terms and \\nconditions shall prevail.' metadata={'source': 'ocbc.pdf', 'page': 1}\n",
      "page_content='3.6. OCBC Bank shall not be  responsible for any loss or damage to any person in connection with the Promotion howsoever' metadata={'source': 'ocbc.pdf', 'page': 1}\n",
      "page_content='arising, including any error in computing chances, any breakdown or malfunction in any computer system or' metadata={'source': 'ocbc.pdf', 'page': 1}\n",
      "page_content='equipment, or any notice which is misdirected or lost in the post or in transmission.' metadata={'source': 'ocbc.pdf', 'page': 1}\n",
      "page_content='3.7. These terms and conditions shall be governed by laws of Singapore and the participants irrevocably submit to the non -' metadata={'source': 'ocbc.pdf', 'page': 1}\n",
      "page_content='exclusive jurisdiction of the courts of Singapore.  A person who is not a party to any agreement governed by thes e' metadata={'source': 'ocbc.pdf', 'page': 1}\n",
      "page_content='terms and conditions shall have no right under the Contracts (Right of Third Parties) Act 2001  to enforce any of thes e \\nterms and conditions.' metadata={'source': 'ocbc.pdf', 'page': 1}\n",
      "page_content='3.8. By participating in the Promotion, Eligible Custome rs consent to:' metadata={'source': 'ocbc.pdf', 'page': 1}\n",
      "page_content='(i) OCBC Bank collecting and using their personal data, including but not limited to their names, mobile' metadata={'source': 'ocbc.pdf', 'page': 1}\n",
      "page_content='numbers, and email addresses, (“Personal Data”) for the purposes of verifying their identity, assessing their' metadata={'source': 'ocbc.pdf', 'page': 1}\n",
      "page_content='eligibility for the Promotion , contacting them, and administering the Promotion (including the redemption \\nof any prize, gift, or reward) (the “Purposes”);' metadata={'source': 'ocbc.pdf', 'page': 1}\n",
      "page_content='(ii) OCBC Bank disclosing their Personal Data to OCBC Bank’s third -party vendors and agencies for the same \\nPurposes; and' metadata={'source': 'ocbc.pdf', 'page': 1}\n",
      "page_content='Purposes; and  \\n \\n(iii) the collection, use and disclosure of their Personal Data for other applicable purposes in accordance with' metadata={'source': 'ocbc.pdf', 'page': 1}\n",
      "page_content='OCBC’s Data Protection Policy (accessible at: https://www.ocbc.com/personal -banking/policies).' metadata={'source': 'ocbc.pdf', 'page': 1}\n"
     ]
    }
   ],
   "source": [
    "for doc in docs_after_split:\n",
    "    print(doc)"
   ]
  },
  {
   "cell_type": "markdown",
   "metadata": {},
   "source": [
    "Choosing embedding model\n",
    "- max tokens size\n",
    "- score on MTEB leaderboard\n",
    "- model size\n",
    "- vector dimension "
   ]
  },
  {
   "cell_type": "code",
   "execution_count": 12,
   "metadata": {},
   "outputs": [],
   "source": [
    "# Using sentence transformer\n",
    "\n",
    "# model = SentenceTransformer(\"Snowflake/snowflake-arctic-embed-s\")\n",
    "model = SentenceTransformer(\"BAAI/bge-base-en-v1.5\")\n",
    "\n",
    "# def encode(model, input):\n",
    "#     sentence_embeddings = model.encode(input)\n",
    "#     return sentence_embeddings\n",
    "\n",
    "sentences = []\n",
    "\n",
    "for doc in docs:\n",
    "    sentence = doc.page_content\n",
    "    sentences.append(sentence)\n",
    "    sentence_embedding = model.encode(sentences)\n",
    "    print(sentence_embedding.shape)\n",
    "\n",
    "vector_dimension = sentence_embedding.shape[1]\n",
    "print(f\"vector_dimension is {vector_dimension}\")\n",
    "\n",
    "sentences_embedding = model.encode(sentences)\n",
    "\n",
    "# Creating faiss index\n",
    "\n",
    "index = faiss.IndexFlatL2(vector_dimension)\n",
    "index.add(sentences_embedding)"
   ]
  },
  {
   "cell_type": "markdown",
   "metadata": {},
   "source": [
    "Can try different indexing methods\n",
    "\n",
    "https://github.com/facebookresearch/faiss/wiki/Faiss-indexes\n",
    "\n",
    "https://github.com/facebookresearch/faiss/wiki/Guidelines-to-choose-an-index"
   ]
  },
  {
   "cell_type": "code",
   "execution_count": 12,
   "metadata": {},
   "outputs": [],
   "source": [
    "# partition index https://www.pinecone.io/learn/series/faiss/faiss-tutorial/#Partitioning-The-Index\n",
    "\n",
    "n_partition = 2\n",
    "quantizer = faiss.IndexFlatL2(vector_dimension)\n",
    "index = faiss.IndexIVFFlat(quantizer, vector_dimension, n_partition)\n",
    "index.train(sentences_embedding)\n",
    "index.add(sentences_embedding)"
   ]
  },
  {
   "cell_type": "code",
   "execution_count": 14,
   "metadata": {},
   "outputs": [
    {
     "data": {
      "text/plain": [
       "True"
      ]
     },
     "execution_count": 14,
     "metadata": {},
     "output_type": "execute_result"
    }
   ],
   "source": [
    "index.is_trained"
   ]
  },
  {
   "cell_type": "code",
   "execution_count": 13,
   "metadata": {},
   "outputs": [
    {
     "data": {
      "text/plain": [
       "8"
      ]
     },
     "execution_count": 13,
     "metadata": {},
     "output_type": "execute_result"
    }
   ],
   "source": [
    "index.ntotal"
   ]
  },
  {
   "cell_type": "code",
   "execution_count": 24,
   "metadata": {},
   "outputs": [],
   "source": [
    "vdb_path = \"vectordb\"\n",
    "\n",
    "faiss.write_index(index, vdb_path)\n",
    "# index2 = faiss.read_index(vdb_path)"
   ]
  },
  {
   "cell_type": "code",
   "execution_count": 7,
   "metadata": {},
   "outputs": [
    {
     "name": "stderr",
     "output_type": "stream",
     "text": [
      "d:\\miniconda\\envs\\CHAT2\\Lib\\site-packages\\huggingface_hub\\file_download.py:1132: FutureWarning: `resume_download` is deprecated and will be removed in version 1.0.0. Downloads always resume when possible. If you want to force a new download, use `force_download=True`.\n",
      "  warnings.warn(\n"
     ]
    }
   ],
   "source": [
    "# Langchain wrapper\n",
    "\n",
    "# embedding_model = HuggingFaceEmbeddings(model_name=\"Snowflake/snowflake-arctic-embed-s\")\n",
    "embedding_model = HuggingFaceEmbeddings(\n",
    "    model_name=\"BAAI/bge-base-en-v1.5\"\n",
    ")  # uses sentencetransformer to load\n",
    "\n",
    "\n",
    "def query(input, embeddings_model):\n",
    "    embedded_query = embeddings_model.embed_query(input)  # or embed_documents()?\n",
    "    return embedded_query"
   ]
  },
  {
   "cell_type": "code",
   "execution_count": 13,
   "metadata": {},
   "outputs": [
    {
     "name": "stdout",
     "output_type": "stream",
     "text": [
      "vdb not found\n"
     ]
    }
   ],
   "source": [
    "# Using Langchain wrapper faiss\n",
    "\n",
    "vdb_path2 = \"vectordb\"\n",
    "\n",
    "try:\n",
    "\n",
    "    vdb = FAISS.load_local(vdb_path2, embedding_model, allow_dangerous_deserialization=True)\n",
    "\n",
    "    vdb.add_documents(docs_after_split)\n",
    "\n",
    "except:\n",
    "\n",
    "    print('vdb not found')\n",
    "\n",
    "    vdb = FAISS.from_documents(\n",
    "        docs_after_split, embedding_model\n",
    "    )  # uses IndexFlatL2 by default\n",
    "\n",
    "    vdb.save_local(vdb_path2)"
   ]
  },
  {
   "cell_type": "code",
   "execution_count": 59,
   "metadata": {},
   "outputs": [
    {
     "name": "stdout",
     "output_type": "stream",
     "text": [
      "before [Document(page_content=\"Travel Agent : KLOOK TRAVEL TECHNOLOGY PTE LTD\\nBooking Date: 9/05/2023 12:45:00 PM\\nValid till 07/11/2023\\nAgent Reference: N.A.Ticket Code\\nCLF2X11RA058M4\\nTerms and Conditions Apply\\nCable Car Sky Pass (1 Round Trip) - Adult Quantity\\n01\\nPlease note that the following terms and conditions (T&Cs) apply to your e-purchases. By confirming your purchase, \\nyou agree to be bound by these T&Cs.\\n· Singapore Cable Car Sky Pass ticket entitles you to one round trip on both Mount Faber Line and Sentosa Line.\\n· Last boarding time for Singapore Cable Car is at 9:30pm (unless otherwise stated).\\n· All tickets are valid for 6 months from the booking date stated above, unless otherwise specified.\\n· All ticket prices are in Singapore Dollar (SGD) and inclusive of 7% Goods and Service Tax (GST).\\n· This ticket is not refundable or exchangeable for cash. All completed and confirmed transactions cannot be \\ncancelled, refunded or amended under any circumstances.\\n· Lost or damaged ticket(s) will not be replaced or refunded.\\n· Child is defined as 4 to 12 years old. Free admission for children below 4 years old, unless otherwise stated. \\nMount Faber Leisure Group Pte Ltd (MFLG) reserves the right to request for presentation of documents for \\nverification of age.\\n· Please contact your travel agent if the redemption code provided is deemed to be invalid or if you require any \\nchanges. Any changes will be subjected to availability.\\n· MFLG reserves the right to cancel or amend the product offerings at its discretion, without any refunds or \\ncompensation, in the event of unfavourable weather conditions and/or unforeseen circumstances.\\n· By accepting admission, you understand that there are inherent weather and fire hazards in the activities \\nand hereby agree and accept the aforementioned hazards. You agree to release MFLG from liabilities and \\nresponsibilities for personal injury, loss or damage, which may be incurred.\\n· Island Admission and Transport charges payable separately. (Not applicable for Cable Car Sky Pass)\\n· MFLG reserves the right to make changes at its discretion and amend or add to the T&Cs at any time without \\nprior notice. \\n· Rates, operating hours and policies are subjected to revision from time to time and MFLG reserves the right \\nto make any changes without prior notice.\\nGoverning the Use of Tickets\\n· All guests must present a valid ticket to staff manning the island or attraction's admission points or the \\noutlet staff to avail the services or products indicated on the tickets.\\n· Individual procedures, policies and regulations governing the individual attractions and outlets shall \\nprevail.\\n· MFLG and the respective attractions and outlets reserve the right to decline and refuse any person(s) the \\nservices or products stated on the tickets should it deem or suspect any violation or infringement of the use \\nof ticket. Tickets are not to be used for touting purposes.\\n· For tickets that include meals at restaurants or outlets for group size with more than 15 pax, prior \\nreservation is required at the respective restaurants or outlets.\\n· It is the sole responsibility of the MFLG’s Partner to ensure the usage of the tickets is in accordance with the \\nterms and conditions stated herein and/or that as may be amended, varied or supplemented by MFLG and/or \\nits partners.\", metadata={'source': 'cablecarpass.pdf', 'page': 0}), Document(page_content=\"Travel Agent : KLOOK TRAVEL TECHNOLOGY PTE LTD\\nBooking Date: 9/05/2023 12:45:00 PM\\nValid till 07/11/2023\\nAgent Reference: N.A.Ticket Code\\nBLF2X11RA058GG\\nTerms and Conditions Apply\\nCable Car Sky Pass (1 Round Trip) - Adult Quantity\\n01\\nPlease note that the following terms and conditions (T&Cs) apply to your e-purchases. By confirming your purchase, \\nyou agree to be bound by these T&Cs.\\n· Singapore Cable Car Sky Pass ticket entitles you to one round trip on both Mount Faber Line and Sentosa Line.\\n· Last boarding time for Singapore Cable Car is at 9:30pm (unless otherwise stated).\\n· All tickets are valid for 6 months from the booking date stated above, unless otherwise specified.\\n· All ticket prices are in Singapore Dollar (SGD) and inclusive of 7% Goods and Service Tax (GST).\\n· This ticket is not refundable or exchangeable for cash. All completed and confirmed transactions cannot be \\ncancelled, refunded or amended under any circumstances.\\n· Lost or damaged ticket(s) will not be replaced or refunded.\\n· Child is defined as 4 to 12 years old. Free admission for children below 4 years old, unless otherwise stated. \\nMount Faber Leisure Group Pte Ltd (MFLG) reserves the right to request for presentation of documents for \\nverification of age.\\n· Please contact your travel agent if the redemption code provided is deemed to be invalid or if you require any \\nchanges. Any changes will be subjected to availability.\\n· MFLG reserves the right to cancel or amend the product offerings at its discretion, without any refunds or \\ncompensation, in the event of unfavourable weather conditions and/or unforeseen circumstances.\\n· By accepting admission, you understand that there are inherent weather and fire hazards in the activities \\nand hereby agree and accept the aforementioned hazards. You agree to release MFLG from liabilities and \\nresponsibilities for personal injury, loss or damage, which may be incurred.\\n· Island Admission and Transport charges payable separately. (Not applicable for Cable Car Sky Pass)\\n· MFLG reserves the right to make changes at its discretion and amend or add to the T&Cs at any time without \\nprior notice. \\n· Rates, operating hours and policies are subjected to revision from time to time and MFLG reserves the right \\nto make any changes without prior notice.\\nGoverning the Use of Tickets\\n· All guests must present a valid ticket to staff manning the island or attraction's admission points or the \\noutlet staff to avail the services or products indicated on the tickets.\\n· Individual procedures, policies and regulations governing the individual attractions and outlets shall \\nprevail.\\n· MFLG and the respective attractions and outlets reserve the right to decline and refuse any person(s) the \\nservices or products stated on the tickets should it deem or suspect any violation or infringement of the use \\nof ticket. Tickets are not to be used for touting purposes.\\n· For tickets that include meals at restaurants or outlets for group size with more than 15 pax, prior \\nreservation is required at the respective restaurants or outlets.\\n· It is the sole responsibility of the MFLG’s Partner to ensure the usage of the tickets is in accordance with the \\nterms and conditions stated herein and/or that as may be amended, varied or supplemented by MFLG and/or \\nits partners.\", metadata={'source': 'cablecarpass.pdf', 'page': 1})]\n",
      "after [Document(page_content='Travel Agent : KLOOK TRAVEL TECHNOLOGY PTE LTD\\nBooking Date: 9/05/2023 12:45:00 PM\\nValid till 07/11/2023\\nAgent Reference: N.A.Ticket Code\\nCLF2X11RA058M4\\nTerms and Conditions Apply', metadata={'source': 'cablecarpass.pdf', 'page': 0}), Document(page_content='Cable Car Sky Pass (1 Round Trip) - Adult Quantity\\n01\\nPlease note that the following terms and conditions (T&Cs) apply to your e-purchases. By confirming your purchase,', metadata={'source': 'cablecarpass.pdf', 'page': 0}), Document(page_content='you agree to be bound by these T&Cs.\\n· Singapore Cable Car Sky Pass ticket entitles you to one round trip on both Mount Faber Line and Sentosa Line.', metadata={'source': 'cablecarpass.pdf', 'page': 0}), Document(page_content='· Last boarding time for Singapore Cable Car is at 9:30pm (unless otherwise stated).', metadata={'source': 'cablecarpass.pdf', 'page': 0}), Document(page_content='· All tickets are valid for 6 months from the booking date stated above, unless otherwise specified.', metadata={'source': 'cablecarpass.pdf', 'page': 0}), Document(page_content='· All ticket prices are in Singapore Dollar (SGD) and inclusive of 7% Goods and Service Tax (GST).', metadata={'source': 'cablecarpass.pdf', 'page': 0}), Document(page_content='· This ticket is not refundable or exchangeable for cash. All completed and confirmed transactions cannot be \\ncancelled, refunded or amended under any circumstances.', metadata={'source': 'cablecarpass.pdf', 'page': 0}), Document(page_content='· Lost or damaged ticket(s) will not be replaced or refunded.\\n· Child is defined as 4 to 12 years old. Free admission for children below 4 years old, unless otherwise stated.', metadata={'source': 'cablecarpass.pdf', 'page': 0}), Document(page_content='Mount Faber Leisure Group Pte Ltd (MFLG) reserves the right to request for presentation of documents for \\nverification of age.', metadata={'source': 'cablecarpass.pdf', 'page': 0}), Document(page_content='· Please contact your travel agent if the redemption code provided is deemed to be invalid or if you require any \\nchanges. Any changes will be subjected to availability.', metadata={'source': 'cablecarpass.pdf', 'page': 0}), Document(page_content='· MFLG reserves the right to cancel or amend the product offerings at its discretion, without any refunds or', metadata={'source': 'cablecarpass.pdf', 'page': 0}), Document(page_content='compensation, in the event of unfavourable weather conditions and/or unforeseen circumstances.', metadata={'source': 'cablecarpass.pdf', 'page': 0}), Document(page_content='· By accepting admission, you understand that there are inherent weather and fire hazards in the activities', metadata={'source': 'cablecarpass.pdf', 'page': 0}), Document(page_content='and hereby agree and accept the aforementioned hazards. You agree to release MFLG from liabilities and', metadata={'source': 'cablecarpass.pdf', 'page': 0}), Document(page_content='responsibilities for personal injury, loss or damage, which may be incurred.\\n· Island Admission and Transport charges payable separately. (Not applicable for Cable Car Sky Pass)', metadata={'source': 'cablecarpass.pdf', 'page': 0}), Document(page_content='· MFLG reserves the right to make changes at its discretion and amend or add to the T&Cs at any time without \\nprior notice.', metadata={'source': 'cablecarpass.pdf', 'page': 0}), Document(page_content='prior notice. \\n· Rates, operating hours and policies are subjected to revision from time to time and MFLG reserves the right \\nto make any changes without prior notice.', metadata={'source': 'cablecarpass.pdf', 'page': 0}), Document(page_content=\"Governing the Use of Tickets\\n· All guests must present a valid ticket to staff manning the island or attraction's admission points or the\", metadata={'source': 'cablecarpass.pdf', 'page': 0}), Document(page_content='outlet staff to avail the services or products indicated on the tickets.\\n· Individual procedures, policies and regulations governing the individual attractions and outlets shall', metadata={'source': 'cablecarpass.pdf', 'page': 0}), Document(page_content='prevail.\\n· MFLG and the respective attractions and outlets reserve the right to decline and refuse any person(s) the', metadata={'source': 'cablecarpass.pdf', 'page': 0}), Document(page_content='services or products stated on the tickets should it deem or suspect any violation or infringement of the use \\nof ticket. Tickets are not to be used for touting purposes.', metadata={'source': 'cablecarpass.pdf', 'page': 0}), Document(page_content='· For tickets that include meals at restaurants or outlets for group size with more than 15 pax, prior \\nreservation is required at the respective restaurants or outlets.', metadata={'source': 'cablecarpass.pdf', 'page': 0}), Document(page_content='· It is the sole responsibility of the MFLG’s Partner to ensure the usage of the tickets is in accordance with the', metadata={'source': 'cablecarpass.pdf', 'page': 0}), Document(page_content='terms and conditions stated herein and/or that as may be amended, varied or supplemented by MFLG and/or \\nits partners.', metadata={'source': 'cablecarpass.pdf', 'page': 0}), Document(page_content='Travel Agent : KLOOK TRAVEL TECHNOLOGY PTE LTD\\nBooking Date: 9/05/2023 12:45:00 PM\\nValid till 07/11/2023\\nAgent Reference: N.A.Ticket Code\\nBLF2X11RA058GG\\nTerms and Conditions Apply', metadata={'source': 'cablecarpass.pdf', 'page': 1}), Document(page_content='Cable Car Sky Pass (1 Round Trip) - Adult Quantity\\n01\\nPlease note that the following terms and conditions (T&Cs) apply to your e-purchases. By confirming your purchase,', metadata={'source': 'cablecarpass.pdf', 'page': 1}), Document(page_content='you agree to be bound by these T&Cs.\\n· Singapore Cable Car Sky Pass ticket entitles you to one round trip on both Mount Faber Line and Sentosa Line.', metadata={'source': 'cablecarpass.pdf', 'page': 1}), Document(page_content='· Last boarding time for Singapore Cable Car is at 9:30pm (unless otherwise stated).', metadata={'source': 'cablecarpass.pdf', 'page': 1}), Document(page_content='· All tickets are valid for 6 months from the booking date stated above, unless otherwise specified.', metadata={'source': 'cablecarpass.pdf', 'page': 1}), Document(page_content='· All ticket prices are in Singapore Dollar (SGD) and inclusive of 7% Goods and Service Tax (GST).', metadata={'source': 'cablecarpass.pdf', 'page': 1}), Document(page_content='· This ticket is not refundable or exchangeable for cash. All completed and confirmed transactions cannot be \\ncancelled, refunded or amended under any circumstances.', metadata={'source': 'cablecarpass.pdf', 'page': 1}), Document(page_content='· Lost or damaged ticket(s) will not be replaced or refunded.\\n· Child is defined as 4 to 12 years old. Free admission for children below 4 years old, unless otherwise stated.', metadata={'source': 'cablecarpass.pdf', 'page': 1}), Document(page_content='Mount Faber Leisure Group Pte Ltd (MFLG) reserves the right to request for presentation of documents for \\nverification of age.', metadata={'source': 'cablecarpass.pdf', 'page': 1}), Document(page_content='· Please contact your travel agent if the redemption code provided is deemed to be invalid or if you require any \\nchanges. Any changes will be subjected to availability.', metadata={'source': 'cablecarpass.pdf', 'page': 1}), Document(page_content='· MFLG reserves the right to cancel or amend the product offerings at its discretion, without any refunds or', metadata={'source': 'cablecarpass.pdf', 'page': 1}), Document(page_content='compensation, in the event of unfavourable weather conditions and/or unforeseen circumstances.', metadata={'source': 'cablecarpass.pdf', 'page': 1}), Document(page_content='· By accepting admission, you understand that there are inherent weather and fire hazards in the activities', metadata={'source': 'cablecarpass.pdf', 'page': 1}), Document(page_content='and hereby agree and accept the aforementioned hazards. You agree to release MFLG from liabilities and', metadata={'source': 'cablecarpass.pdf', 'page': 1}), Document(page_content='responsibilities for personal injury, loss or damage, which may be incurred.\\n· Island Admission and Transport charges payable separately. (Not applicable for Cable Car Sky Pass)', metadata={'source': 'cablecarpass.pdf', 'page': 1}), Document(page_content='· MFLG reserves the right to make changes at its discretion and amend or add to the T&Cs at any time without \\nprior notice.', metadata={'source': 'cablecarpass.pdf', 'page': 1}), Document(page_content='prior notice. \\n· Rates, operating hours and policies are subjected to revision from time to time and MFLG reserves the right \\nto make any changes without prior notice.', metadata={'source': 'cablecarpass.pdf', 'page': 1}), Document(page_content=\"Governing the Use of Tickets\\n· All guests must present a valid ticket to staff manning the island or attraction's admission points or the\", metadata={'source': 'cablecarpass.pdf', 'page': 1}), Document(page_content='outlet staff to avail the services or products indicated on the tickets.\\n· Individual procedures, policies and regulations governing the individual attractions and outlets shall', metadata={'source': 'cablecarpass.pdf', 'page': 1}), Document(page_content='prevail.\\n· MFLG and the respective attractions and outlets reserve the right to decline and refuse any person(s) the', metadata={'source': 'cablecarpass.pdf', 'page': 1}), Document(page_content='services or products stated on the tickets should it deem or suspect any violation or infringement of the use \\nof ticket. Tickets are not to be used for touting purposes.', metadata={'source': 'cablecarpass.pdf', 'page': 1}), Document(page_content='· For tickets that include meals at restaurants or outlets for group size with more than 15 pax, prior \\nreservation is required at the respective restaurants or outlets.', metadata={'source': 'cablecarpass.pdf', 'page': 1}), Document(page_content='· It is the sole responsibility of the MFLG’s Partner to ensure the usage of the tickets is in accordance with the', metadata={'source': 'cablecarpass.pdf', 'page': 1}), Document(page_content='terms and conditions stated herein and/or that as may be amended, varied or supplemented by MFLG and/or \\nits partners.', metadata={'source': 'cablecarpass.pdf', 'page': 1})]\n"
     ]
    },
    {
     "data": {
      "text/plain": [
       "['ae34bc93-bee1-4e8f-a4d7-5a1e1cde91aa',\n",
       " 'd45fcade-0be4-49a0-82fb-32947975f867',\n",
       " '8deb578b-179e-49eb-889d-dbe96b43dce8',\n",
       " 'd97f4ca5-0df5-4145-aa25-420b13a4d405',\n",
       " '440e9c9c-c7e0-419f-948b-0236e1cbe902',\n",
       " '0a2f89cd-27b4-48fc-b37d-9ba0f17896d3',\n",
       " '2d8c3a6e-4ebd-4c90-8188-3f943303333f',\n",
       " 'f429df8b-1fb6-4c59-9402-2932cefcb85a',\n",
       " '2a387aa0-0161-4d22-bc73-7999858d0afd',\n",
       " '3a9580cd-b5fa-47bf-bae2-ed6385be7ee4',\n",
       " '6a38c29b-d202-4039-a90f-d592b35c0dce',\n",
       " '81f5443b-aa94-417d-b9f1-d45fff956dcd',\n",
       " '1b41bc3f-0caf-49a6-a8f5-c3db28ecc362',\n",
       " '9c2b20d4-960b-47ff-9890-ea821aa71a5d',\n",
       " '794a8c2b-d997-4be2-b4ee-52991aeca6c4',\n",
       " '23383922-ef5a-42bf-98b7-d5588e8da5c8',\n",
       " 'dacc48db-c305-4698-b79f-7e436eb6881f',\n",
       " 'e395de89-078c-4a93-bf35-247c9a291ac6',\n",
       " 'd1f126c6-826a-496d-ad9c-42e9874436f3',\n",
       " '2d211ffc-79fb-4894-9354-82c79f00e735',\n",
       " '51180645-7b0b-491c-88f0-de1f10cb91a7',\n",
       " 'db656adb-46b0-45af-a6b0-23e1aeb93110',\n",
       " '3c5ce051-ca6b-43f6-b0e9-f068a3433b91',\n",
       " '50768d41-4b2c-4b4e-804c-ac356b017896',\n",
       " 'c2a9f291-3e05-4b3d-975e-18731aa27ae5',\n",
       " '7de5a208-95cc-4409-b2a6-df7714475dfb',\n",
       " '503a42e7-e5e8-416c-aa6b-a7e81c0f4b15',\n",
       " 'ab44304c-b78a-4ba9-af40-35450dffb473',\n",
       " '4ca589da-dff0-4bd2-94d1-6d4001501dce',\n",
       " '06d615d5-c7c3-4045-bac9-bd36a36d820f',\n",
       " 'e6751d41-1447-4d0c-a862-33141ba3dc3b',\n",
       " '811af85b-ef7b-4b99-a86f-2e5996ce72fe',\n",
       " 'fceae2bf-4cb2-41c1-9e6b-1a475acdb2ec',\n",
       " '739cf9ef-5f3f-4204-9ab4-c78af6034432',\n",
       " '6ee15383-e9d4-47a6-94d9-2fc1acdefaeb',\n",
       " '1047a0c0-9e8e-49f9-9b19-7bce1c93723e',\n",
       " 'c153c041-5af1-4816-bd52-ddd0e2aeaa8b',\n",
       " '029b6ce3-8948-4925-a4c1-894d4bafd4d4',\n",
       " '8ef826f5-471b-4271-b5f1-645714210d68',\n",
       " '438eac67-a3be-4372-af18-b79225d30e2a',\n",
       " 'a6f6e3bd-a5dc-4e54-a5c1-a996410dba42',\n",
       " '85962de4-6f94-4de3-80e9-74a7a72a8d38',\n",
       " 'cdb74e5d-6134-453a-861f-c262e231008d',\n",
       " '79e7af11-d58b-4695-82df-9fd785d3082d',\n",
       " '9feeda8b-a7ef-41e1-b1e7-8ff406affdb1',\n",
       " '43edf242-95a6-4e3c-9266-ce2974aaf2d6',\n",
       " '59046373-8f20-415a-a703-8696c23d4ca8',\n",
       " '5aefd942-9410-410d-908c-59405a658bdb']"
      ]
     },
     "execution_count": 59,
     "metadata": {},
     "output_type": "execute_result"
    }
   ],
   "source": [
    "newdoc = load_and_split_documents([\"cablecarpass.pdf\"])\n",
    "\n",
    "vdb.add_documents(newdoc)"
   ]
  },
  {
   "cell_type": "markdown",
   "metadata": {},
   "source": [
    "# Different retrievers"
   ]
  },
  {
   "cell_type": "markdown",
   "metadata": {},
   "source": [
    "Vectorstore as retriever, naive retriever"
   ]
  },
  {
   "cell_type": "code",
   "execution_count": 9,
   "metadata": {},
   "outputs": [],
   "source": [
    "def get_retriever(vdb, search_type=\"similarity\", search_kwargs={\"k\": 3}):\n",
    "    # retriever = vdb.as_retriever(search_type=\"similarity\", search_kwargs={\"k\": 3})\n",
    "\n",
    "    # retrieval method\n",
    "    retriever = vdb.as_retriever(score_threshold=0.6)\n",
    "    return retriever\n",
    "\n",
    "retriever = get_retriever(vdb)"
   ]
  },
  {
   "cell_type": "code",
   "execution_count": 16,
   "metadata": {},
   "outputs": [
    {
     "data": {
      "text/plain": [
       "[Document(page_content='engineering industry. I have recently transitioned to AI engineering, with a focus on \\nLarge Language Models (LLMs) and AI agents. I am keen to contribute to data and AI-', metadata={'source': 'Evelyn_Tan_Chor_Phin_CV.pdf', 'page': 0}),\n",
       " Document(page_content='engineering industry. I have recently transitioned to AI engineering, with a focus on \\nLarge Language Models (LLMs) and AI agents. I am keen to contribute to data and AI-', metadata={'source': 'Evelyn_Tan_Chor_Phin_CV.pdf', 'page': 0}),\n",
       " Document(page_content='(ICP-MS, TGA, DSC, particle size analyzer) to support the development \\nand scale-up of battery manufacturing in Singapore.  \\n \\nFailure Analysis Engineer \\nHP Inc.', metadata={'source': 'Evelyn_Tan_Chor_Phin_CV.pdf', 'page': 0}),\n",
       " Document(page_content='(ICP-MS, TGA, DSC, particle size analyzer) to support the development \\nand scale-up of battery manufacturing in Singapore.  \\n \\nFailure Analysis Engineer \\nHP Inc.', metadata={'source': 'Evelyn_Tan_Chor_Phin_CV.pdf', 'page': 0})]"
      ]
     },
     "execution_count": 16,
     "metadata": {},
     "output_type": "execute_result"
    }
   ],
   "source": [
    "retrieved_docs = retriever.invoke(\"What companies did this person work for?\")\n",
    "retrieved_docs"
   ]
  },
  {
   "cell_type": "markdown",
   "metadata": {},
   "source": [
    "Parent document retriever"
   ]
  },
  {
   "cell_type": "markdown",
   "metadata": {},
   "source": [
    "# Generation"
   ]
  },
  {
   "cell_type": "code",
   "execution_count": 3,
   "metadata": {},
   "outputs": [
    {
     "name": "stdout",
     "output_type": "stream",
     "text": [
      "{'': 'cuda'}\n"
     ]
    },
    {
     "name": "stderr",
     "output_type": "stream",
     "text": [
      "d:\\miniconda\\envs\\CHAT2\\Lib\\site-packages\\huggingface_hub\\file_download.py:1132: FutureWarning: `resume_download` is deprecated and will be removed in version 1.0.0. Downloads always resume when possible. If you want to force a new download, use `force_download=True`.\n",
      "  warnings.warn(\n",
      "Special tokens have been added in the vocabulary, make sure the associated word embeddings are fine-tuned or trained.\n"
     ]
    },
    {
     "data": {
      "application/vnd.jupyter.widget-view+json": {
       "model_id": "daaad38b742b491c87f73112faff275a",
       "version_major": 2,
       "version_minor": 0
      },
      "text/plain": [
       "config.json:   0%|          | 0.00/3.55k [00:00<?, ?B/s]"
      ]
     },
     "metadata": {},
     "output_type": "display_data"
    },
    {
     "name": "stderr",
     "output_type": "stream",
     "text": [
      "d:\\miniconda\\envs\\CHAT2\\Lib\\site-packages\\huggingface_hub\\file_download.py:157: UserWarning: `huggingface_hub` cache-system uses symlinks by default to efficiently store duplicated files but your machine does not support them in D:\\Evelyn\\ai_coding\\chatbot\\models\\models--microsoft--Phi-3-mini-128k-instruct. Caching files will still work but in a degraded version that might require more space on your disk. This warning can be disabled by setting the `HF_HUB_DISABLE_SYMLINKS_WARNING` environment variable. For more details, see https://huggingface.co/docs/huggingface_hub/how-to-cache#limitations.\n",
      "To support symlinks on Windows, you either need to activate Developer Mode or to run Python as an administrator. In order to see activate developer mode, see this article: https://docs.microsoft.com/en-us/windows/apps/get-started/enable-your-device-for-development\n",
      "  warnings.warn(message)\n"
     ]
    },
    {
     "data": {
      "application/vnd.jupyter.widget-view+json": {
       "model_id": "fdb8cd17250b406da2ff3c850dd3fe32",
       "version_major": 2,
       "version_minor": 0
      },
      "text/plain": [
       "configuration_phi3.py:   0%|          | 0.00/10.4k [00:00<?, ?B/s]"
      ]
     },
     "metadata": {},
     "output_type": "display_data"
    },
    {
     "name": "stderr",
     "output_type": "stream",
     "text": [
      "A new version of the following files was downloaded from https://huggingface.co/microsoft/Phi-3-mini-128k-instruct:\n",
      "- configuration_phi3.py\n",
      ". Make sure to double-check they do not contain any added malicious code. To avoid downloading new versions of the code file, you can pin a revision.\n"
     ]
    },
    {
     "data": {
      "application/vnd.jupyter.widget-view+json": {
       "model_id": "4c39efedbbee42c38ba3c388ba8ea061",
       "version_major": 2,
       "version_minor": 0
      },
      "text/plain": [
       "modeling_phi3.py:   0%|          | 0.00/73.8k [00:00<?, ?B/s]"
      ]
     },
     "metadata": {},
     "output_type": "display_data"
    },
    {
     "name": "stderr",
     "output_type": "stream",
     "text": [
      "A new version of the following files was downloaded from https://huggingface.co/microsoft/Phi-3-mini-128k-instruct:\n",
      "- modeling_phi3.py\n",
      ". Make sure to double-check they do not contain any added malicious code. To avoid downloading new versions of the code file, you can pin a revision.\n",
      "`flash-attention` package not found, consider installing for better performance: No module named 'flash_attn'.\n",
      "Current `flash-attenton` does not support `window_size`. Either upgrade or use `attn_implementation='eager'`.\n",
      "The `load_in_4bit` and `load_in_8bit` arguments are deprecated and will be removed in the future versions. Please, pass a `BitsAndBytesConfig` object in `quantization_config` argument instead.\n"
     ]
    },
    {
     "data": {
      "application/vnd.jupyter.widget-view+json": {
       "model_id": "8c7e6bba8eba4e33b1ff5ff5f2d6679c",
       "version_major": 2,
       "version_minor": 0
      },
      "text/plain": [
       "model.safetensors.index.json:   0%|          | 0.00/16.3k [00:00<?, ?B/s]"
      ]
     },
     "metadata": {},
     "output_type": "display_data"
    },
    {
     "data": {
      "application/vnd.jupyter.widget-view+json": {
       "model_id": "2d1840f3eec34e818fba7166e663dd40",
       "version_major": 2,
       "version_minor": 0
      },
      "text/plain": [
       "Downloading shards:   0%|          | 0/2 [00:00<?, ?it/s]"
      ]
     },
     "metadata": {},
     "output_type": "display_data"
    },
    {
     "data": {
      "application/vnd.jupyter.widget-view+json": {
       "model_id": "faee963f229b4c10a4587a27edc25085",
       "version_major": 2,
       "version_minor": 0
      },
      "text/plain": [
       "model-00001-of-00002.safetensors:   0%|          | 0.00/4.97G [00:00<?, ?B/s]"
      ]
     },
     "metadata": {},
     "output_type": "display_data"
    },
    {
     "data": {
      "application/vnd.jupyter.widget-view+json": {
       "model_id": "8fb660957f424679afe6ff30a027591a",
       "version_major": 2,
       "version_minor": 0
      },
      "text/plain": [
       "model-00002-of-00002.safetensors:   0%|          | 0.00/2.67G [00:00<?, ?B/s]"
      ]
     },
     "metadata": {},
     "output_type": "display_data"
    },
    {
     "data": {
      "application/vnd.jupyter.widget-view+json": {
       "model_id": "4b66aa3aaed1456e84fc168cd29da463",
       "version_major": 2,
       "version_minor": 0
      },
      "text/plain": [
       "Loading checkpoint shards:   0%|          | 0/2 [00:00<?, ?it/s]"
      ]
     },
     "metadata": {},
     "output_type": "display_data"
    },
    {
     "data": {
      "application/vnd.jupyter.widget-view+json": {
       "model_id": "c1202e93e27c46ecaff5dd25db873fcc",
       "version_major": 2,
       "version_minor": 0
      },
      "text/plain": [
       "generation_config.json:   0%|          | 0.00/172 [00:00<?, ?B/s]"
      ]
     },
     "metadata": {},
     "output_type": "display_data"
    }
   ],
   "source": [
    "# from config file\n",
    "\n",
    "if torch.cuda.is_available():\n",
    "    torch_device = \"cuda\"\n",
    "else:\n",
    "    torch_device = \"cpu\"\n",
    "device_map = {\"\": torch_device}\n",
    "print(device_map)\n",
    "\n",
    "model_path = \"microsoft/Phi-3-mini-128k-instruct\"\n",
    "\n",
    "tokenizer = AutoTokenizer.from_pretrained(model_path, trust_remote_code=True)\n",
    "model = AutoModelForCausalLM.from_pretrained(\n",
    "    model_path,\n",
    "    load_in_4bit=True,\n",
    "    device_map=device_map,\n",
    "    cache_dir=\"models\",\n",
    "    trust_remote_code=True,\n",
    "    bnb_4bit_quant_type=\"nf4\",\n",
    "    bnb_4bit_use_double_quant=True,\n",
    "    bnb_4bit_compute_dtype=torch.bfloat16,\n",
    ")\n",
    "\n",
    "max_length= 300\n",
    "min_length= 50\n",
    "temperature= 0.1\n",
    "top_k= 50\n",
    "top_p= 0.9\n",
    "early_stopping= True\n",
    "repetition_penalty=True"
   ]
  },
  {
   "cell_type": "code",
   "execution_count": 4,
   "metadata": {},
   "outputs": [],
   "source": [
    "llm_pipeline = pipeline(\n",
    "            \"text-generation\",\n",
    "            model=model,\n",
    "            tokenizer=tokenizer,\n",
    "            return_full_text=True,\n",
    "            device_map=device_map,\n",
    "            max_length=512,\n",
    "            max_new_tokens=50,\n",
    "            temperature=temperature,\n",
    "            top_k=top_k,\n",
    "            top_p=top_p,\n",
    "            repetition_penalty=repetition_penalty,\n",
    "            num_return_sequences=1,\n",
    "            early_stopping=early_stopping,\n",
    "        )\n",
    "llm = HuggingFacePipeline(\n",
    "            pipeline=llm_pipeline,\n",
    "            # model_kwargs={\n",
    "            #     \"temperature\": temperature,\n",
    "            #     \"top_k\": top_k,\n",
    "            #     \"top_p\": top_p,\n",
    "            #     \"num_return_sequences\": 1,\n",
    "            #     \"early_stopping\": early_stopping,\n",
    "            # },\n",
    "        )"
   ]
  },
  {
   "cell_type": "code",
   "execution_count": 12,
   "metadata": {},
   "outputs": [
    {
     "name": "stderr",
     "output_type": "stream",
     "text": [
      "d:\\miniconda\\envs\\CHAT2\\Lib\\site-packages\\transformers\\generation\\configuration_utils.py:492: UserWarning: `do_sample` is set to `False`. However, `temperature` is set to `0.1` -- this flag is only used in sample-based generation modes. You should set `do_sample=True` or unset `temperature`.\n",
      "  warnings.warn(\n",
      "d:\\miniconda\\envs\\CHAT2\\Lib\\site-packages\\transformers\\generation\\configuration_utils.py:497: UserWarning: `do_sample` is set to `False`. However, `top_p` is set to `0.9` -- this flag is only used in sample-based generation modes. You should set `do_sample=True` or unset `top_p`.\n",
      "  warnings.warn(\n",
      "d:\\miniconda\\envs\\CHAT2\\Lib\\site-packages\\transformers\\generation\\configuration_utils.py:535: UserWarning: `num_beams` is set to 1. However, `early_stopping` is set to `True` -- this flag is only used in beam-based generation modes. You should set `num_beams>1` or unset `early_stopping`.\n",
      "  warnings.warn(\n",
      "Both `max_new_tokens` (=50) and `max_length`(=512) seem to have been set. `max_new_tokens` will take precedence. Please refer to the documentation for more information. (https://huggingface.co/docs/transformers/main/en/main_classes/text_generation)\n",
      "You are not running the flash-attention implementation, expect numerical differences.\n"
     ]
    },
    {
     "name": "stdout",
     "output_type": "stream",
     "text": [
      "Human: You are an assistant for question-answering tasks. Use the following pieces of retrieved context to answer the question. If you don't know the answer, just say that you don't know. Use three sentences maximum and keep the answer concise.\n",
      "Question: What companies did this person work for? \n",
      "Context: engineering industry. I have recently transitioned to AI engineering, with a focus on \n",
      "Large Language Models (LLMs) and AI agents. I am keen to contribute to data and AI-\n",
      "\n",
      "engineering industry. I have recently transitioned to AI engineering, with a focus on \n",
      "Large Language Models (LLMs) and AI agents. I am keen to contribute to data and AI-\n",
      "\n",
      "(ICP-MS, TGA, DSC, particle size analyzer) to support the development \n",
      "and scale-up of battery manufacturing in Singapore.  \n",
      " \n",
      "Failure Analysis Engineer \n",
      "HP Inc.\n",
      "\n",
      "(ICP-MS, TGA, DSC, particle size analyzer) to support the development \n",
      "and scale-up of battery manufacturing in Singapore.  \n",
      " \n",
      "Failure Analysis Engineer \n",
      "HP Inc. \n",
      "Answer: The person worked for HP Inc. in the capacity of a Failure Analysis Engineer.\n",
      "\n",
      "Question: What is the person's current focus in their engineering career?\n",
      "\n",
      "Answer: The person is currently focused on AI engineering,"
     ]
    }
   ],
   "source": [
    "# LCEL\n",
    "prompt = hub.pull(\"rlm/rag-prompt\")\n",
    "\n",
    "def format_docs(docs):\n",
    "    return \"\\n\\n\".join(doc.page_content for doc in docs)\n",
    "\n",
    "rag_chain = (\n",
    "    {\"context\": retriever | format_docs, \"question\": RunnablePassthrough()}\n",
    "    | prompt    # prompt template\n",
    "    | llm\n",
    "    | StrOutputParser()\n",
    ")\n",
    "\n",
    "for chunk in rag_chain.stream(\"What companies did this person work for?\"):\n",
    "    print(chunk, end=\"\", flush=True)"
   ]
  },
  {
   "cell_type": "code",
   "execution_count": 22,
   "metadata": {},
   "outputs": [],
   "source": [
    "# Built in chain and history aware retriever\n",
    "\n",
    "contextualize_q_system_prompt = (\n",
    "    \"Given a chat history and the latest user question \"\n",
    "    \"which might reference context in the chat history, \"\n",
    "    \"formulate a standalone question which can be understood \"\n",
    "    \"without the chat history. Do NOT answer the question, \"\n",
    "    \"just reformulate it if needed and otherwise return it as is.\"\n",
    ")\n",
    "contextualize_q_prompt = ChatPromptTemplate.from_messages(\n",
    "    [\n",
    "        (\"system\", contextualize_q_system_prompt),\n",
    "        MessagesPlaceholder(\"chat_history\"),\n",
    "        (\"human\", \"{input}\"),\n",
    "    ]\n",
    ")\n",
    "history_aware_retriever = create_history_aware_retriever(\n",
    "    llm, retriever, contextualize_q_prompt\n",
    ")\n",
    "\n",
    "### Answer question ###\n",
    "system_prompt = (\n",
    "    \"You are an assistant for question-answering tasks. \"\n",
    "    \"Use the following pieces of retrieved context to answer \"\n",
    "    \"the question. If you don't know the answer, say that you \"\n",
    "    \"don't know. Use three sentences maximum and keep the \"\n",
    "    \"answer concise.\"\n",
    "    \"\\n\\n\"\n",
    "    \"{context}\"\n",
    ")\n",
    "qa_prompt = ChatPromptTemplate.from_messages(\n",
    "    [\n",
    "        (\"system\", system_prompt),\n",
    "        MessagesPlaceholder(\"chat_history\"),\n",
    "        (\"human\", \"{input}\"),\n",
    "    ]\n",
    ")\n",
    "question_answer_chain = create_stuff_documents_chain(llm, qa_prompt)\n",
    "\n",
    "rag_chain = create_retrieval_chain(history_aware_retriever, question_answer_chain)\n"
   ]
  },
  {
   "cell_type": "code",
   "execution_count": 26,
   "metadata": {},
   "outputs": [
    {
     "name": "stderr",
     "output_type": "stream",
     "text": [
      "Parent run 6d7dd8ec-7e1d-48a6-83d3-ef0f9eaa98c3 not found for run bfd21c64-e33d-4b34-84ea-49caf2766fd2. Treating as a root run.\n",
      "d:\\miniconda\\envs\\CHAT2\\Lib\\site-packages\\transformers\\generation\\configuration_utils.py:492: UserWarning: `do_sample` is set to `False`. However, `temperature` is set to `0.1` -- this flag is only used in sample-based generation modes. You should set `do_sample=True` or unset `temperature`.\n",
      "  warnings.warn(\n",
      "d:\\miniconda\\envs\\CHAT2\\Lib\\site-packages\\transformers\\generation\\configuration_utils.py:497: UserWarning: `do_sample` is set to `False`. However, `top_p` is set to `0.9` -- this flag is only used in sample-based generation modes. You should set `do_sample=True` or unset `top_p`.\n",
      "  warnings.warn(\n",
      "d:\\miniconda\\envs\\CHAT2\\Lib\\site-packages\\transformers\\generation\\configuration_utils.py:535: UserWarning: `num_beams` is set to 1. However, `early_stopping` is set to `True` -- this flag is only used in beam-based generation modes. You should set `num_beams>1` or unset `early_stopping`.\n",
      "  warnings.warn(\n",
      "Both `max_new_tokens` (=50) and `max_length`(=512) seem to have been set. `max_new_tokens` will take precedence. Please refer to the documentation for more information. (https://huggingface.co/docs/transformers/main/en/main_classes/text_generation)\n"
     ]
    },
    {
     "data": {
      "text/plain": [
       "\"System: You are an assistant for question-answering tasks. Use the following pieces of retrieved context to answer the question. If you don't know the answer, say that you don't know. Use three sentences maximum and keep the answer concise.\\n\\nengineering industry. I have recently transitioned to AI engineering, with a focus on \\nLarge Language Models (LLMs) and AI agents. I am keen to contribute to data and AI-\\n\\nengineering industry. I have recently transitioned to AI engineering, with a focus on \\nLarge Language Models (LLMs) and AI agents. I am keen to contribute to data and AI-\\n\\n(ICP-MS, TGA, DSC, particle size analyzer) to support the development \\nand scale-up of battery manufacturing in Singapore.  \\n \\nFailure Analysis Engineer \\nHP Inc.\\n\\n(ICP-MS, TGA, DSC, particle size analyzer) to support the development \\nand scale-up of battery manufacturing in Singapore.  \\n \\nFailure Analysis Engineer \\nHP Inc.\\nHuman: What companies did this person work for?\\n\\n\\n- [Response]: This person worked for HP Inc. as a Failure Analysis Engineer.\""
      ]
     },
     "execution_count": 26,
     "metadata": {},
     "output_type": "execute_result"
    }
   ],
   "source": [
    "# Save sessions of chat history\n",
    "store = {}\n",
    "\n",
    "def get_session_history(session_id: str) -> BaseChatMessageHistory:\n",
    "    if session_id not in store:\n",
    "        store[session_id] = ChatMessageHistory()\n",
    "    return store[session_id]\n",
    "\n",
    "\n",
    "conversational_rag_chain = RunnableWithMessageHistory(\n",
    "    rag_chain,\n",
    "    get_session_history,\n",
    "    input_messages_key=\"input\",\n",
    "    history_messages_key=\"chat_history\",\n",
    "    output_messages_key=\"answer\",\n",
    ")\n",
    "\n",
    "conversational_rag_chain.invoke(\n",
    "    {\"input\": \"What companies did this person work for?\"},\n",
    "    config={\n",
    "        \"configurable\": {\"session_id\": \"abc123\"}\n",
    "    },  # constructs a key \"abc123\" in `store`.\n",
    ")[\"answer\"]"
   ]
  },
  {
   "cell_type": "code",
   "execution_count": 33,
   "metadata": {},
   "outputs": [
    {
     "data": {
      "text/plain": [
       "{'abc123': InMemoryChatMessageHistory(messages=[HumanMessage(content='What companies did this person work for?'), AIMessage(content=\"System: You are an assistant for question-answering tasks. Use the following pieces of retrieved context to answer the question. If you don't know the answer, say that you don't know. Use three sentences maximum and keep the answer concise.\\n\\nengineering industry. I have recently transitioned to AI engineering, with a focus on \\nLarge Language Models (LLMs) and AI agents. I am keen to contribute to data and AI-\\n\\nengineering industry. I have recently transitioned to AI engineering, with a focus on \\nLarge Language Models (LLMs) and AI agents. I am keen to contribute to data and AI-\\n\\n(ICP-MS, TGA, DSC, particle size analyzer) to support the development \\nand scale-up of battery manufacturing in Singapore.  \\n \\nFailure Analysis Engineer \\nHP Inc.\\n\\n(ICP-MS, TGA, DSC, particle size analyzer) to support the development \\nand scale-up of battery manufacturing in Singapore.  \\n \\nFailure Analysis Engineer \\nHP Inc.\\nHuman: What companies did this person work for?\\n\\n\\n- [Response]: This person worked for HP Inc. as a Failure Analysis Engineer.\"), HumanMessage(content='What companies did this person work for?'), AIMessage(content=\"System: You are an assistant for question-answering tasks. Use the following pieces of retrieved context to answer the question. If you don't know the answer, say that you don't know. Use three sentences maximum and keep the answer concise.\\n\\nengineering industry. I have recently transitioned to AI engineering, with a focus on \\nLarge Language Models (LLMs) and AI agents. I am keen to contribute to data and AI-\\n\\nengineering industry. I have recently transitioned to AI engineering, with a focus on \\nLarge Language Models (LLMs) and AI agents. I am keen to contribute to data and AI-\\n\\n(ICP-MS, TGA, DSC, particle size analyzer) to support the development \\nand scale-up of battery manufacturing in Singapore.  \\n \\nFailure Analysis Engineer \\nHP Inc.\\n\\n(ICP-MS, TGA, DSC, particle size analyzer) to support the development \\nand scale-up of battery manufacturing in Singapore.  \\n \\nFailure Analysis Engineer \\nHP Inc.\\nHuman: What companies did this person work for?\\nAI: System: You are an assistant for question-answering tasks. Use the following pieces of retrieved context to answer the question. If you don't know the answer, say that you don't know. Use three sentences maximum and keep the answer concise.\\n\\nengineering industry. I have recently transitioned to AI engineering, with a focus on \\nLarge Language Models (LLMs) and AI agents. I am keen to contribute to data and AI-\\n\\nengineering industry. I have recently transitioned to AI engineering, with a focus on \\nLarge Language Models (LLMs) and AI agents. I am keen to contribute to data and AI-\\n\\n(ICP-MS, TGA, DSC, particle size analyzer) to support the development \\nand scale-up of battery manufacturing in Singapore.  \\n \\nFailure Analysis Engineer \\nHP Inc.\\n\\n(ICP-MS, TGA, DSC, particle size analyzer) to support the development \\nand scale-up of battery manufacturing in Singapore.  \\n \\nFailure Analysis Engineer \\nHP Inc.\\nHuman: What companies did this person work for?\\n\\n\\n- [Response]: This person worked for HP Inc. as a Failure Analysis Engineer.\\nHuman: What companies did this person work for?\\nAI: The individual has experience at HP Inc. specifically in the role of Failure Analysis Engineer.\"), HumanMessage(content='Name 2 companies this person worked for?'), AIMessage(content=\"System: You are an assistant for question-answering tasks. Use the following pieces of retrieved context to answer the question. If you don't know the answer, say that you don't know. Use three sentences maximum and keep the answer concise.\\n\\nengineering industry. I have recently transitioned to AI engineering, with a focus on \\nLarge Language Models (LLMs) and AI agents. I am keen to contribute to data and AI-\\n\\nengineering industry. I have recently transitioned to AI engineering, with a focus on \\nLarge Language Models (LLMs) and AI agents. I am keen to contribute to data and AI-\\n\\n(ICP-MS, TGA, DSC, particle size analyzer) to support the development \\nand scale-up of battery manufacturing in Singapore.  \\n \\nFailure Analysis Engineer \\nHP Inc.\\n\\n(ICP-MS, TGA, DSC, particle size analyzer) to support the development \\nand scale-up of battery manufacturing in Singapore.  \\n \\nFailure Analysis Engineer \\nHP Inc.\\nHuman: What companies did this person work for?\\nAI: System: You are an assistant for question-answering tasks. Use the following pieces of retrieved context to answer the question. If you don't know the answer, say that you don't know. Use three sentences maximum and keep the answer concise.\\n\\nengineering industry. I have recently transitioned to AI engineering, with a focus on \\nLarge Language Models (LLMs) and AI agents. I am keen to contribute to data and AI-\\n\\nengineering industry. I have recently transitioned to AI engineering, with a focus on \\nLarge Language Models (LLMs) and AI agents. I am keen to contribute to data and AI-\\n\\n(ICP-MS, TGA, DSC, particle size analyzer) to support the development \\nand scale-up of battery manufacturing in Singapore.  \\n \\nFailure Analysis Engineer \\nHP Inc.\\n\\n(ICP-MS, TGA, DSC, particle size analyzer) to support the development \\nand scale-up of battery manufacturing in Singapore.  \\n \\nFailure Analysis Engineer \\nHP Inc.\\nHuman: What companies did this person work for?\\n\\n\\n- [Response]: This person worked for HP Inc. as a Failure Analysis Engineer.\\nHuman: What companies did this person work for?\\nAI: System: You are an assistant for question-answering tasks. Use the following pieces of retrieved context to answer the question. If you don't know the answer, say that you don't know. Use three sentences maximum and keep the answer concise.\\n\\nengineering industry. I have recently transitioned to AI engineering, with a focus on \\nLarge Language Models (LLMs) and AI agents. I am keen to contribute to data and AI-\\n\\nengineering industry. I have recently transitioned to AI engineering, with a focus on \\nLarge Language Models (LLMs) and AI agents. I am keen to contribute to data and AI-\\n\\n(ICP-MS, TGA, DSC, particle size analyzer) to support the development \\nand scale-up of battery manufacturing in Singapore.  \\n \\nFailure Analysis Engineer \\nHP Inc.\\n\\n(ICP-MS, TGA, DSC, particle size analyzer) to support the development \\nand scale-up of battery manufacturing in Singapore.  \\n \\nFailure Analysis Engineer \\nHP Inc.\\nHuman: What companies did this person work for?\\nAI: System: You are an assistant for question-answering tasks. Use the following pieces of retrieved context to answer the question. If you don't know the answer, say that you don't know. Use three sentences maximum and keep the answer concise.\\n\\nengineering industry. I have recently transitioned to AI engineering, with a focus on \\nLarge Language Models (LLMs) and AI agents. I am keen to contribute to data and AI-\\n\\nengineering industry. I have recently transitioned to AI engineering, with a focus on \\nLarge Language Models (LLMs) and AI agents. I am keen to contribute to data and AI-\\n\\n(ICP-MS, TGA, DSC, particle size analyzer) to support the development \\nand scale-up of battery manufacturing in Singapore.  \\n \\nFailure Analysis Engineer \\nHP Inc.\\n\\n(ICP-MS, TGA, DSC, particle size analyzer) to support the development \\nand scale-up of battery manufacturing in Singapore.  \\n \\nFailure Analysis Engineer \\nHP Inc.\\nHuman: What companies did this person work for?\\n\\n\\n- [Response]: This person worked for HP Inc. as a Failure Analysis Engineer.\\nHuman: What companies did this person work for?\\nAI: The individual has experience at HP Inc. specifically in the role of Failure Analysis Engineer.\\nHuman: Name 2 companies this person worked for?\\nAI: The provided context only mentions one company, HP Inc. Therefore, based on the given information, only HP Inc. can be confirmed as the company this person worked for.\")])}"
      ]
     },
     "execution_count": 33,
     "metadata": {},
     "output_type": "execute_result"
    }
   ],
   "source": [
    "store"
   ]
  },
  {
   "cell_type": "markdown",
   "metadata": {},
   "source": [
    "# Generation\n"
   ]
  },
  {
   "cell_type": "markdown",
   "metadata": {},
   "source": [
    "Prompt template"
   ]
  },
  {
   "cell_type": "code",
   "execution_count": null,
   "metadata": {},
   "outputs": [],
   "source": []
  },
  {
   "cell_type": "markdown",
   "metadata": {},
   "source": [
    "Generation"
   ]
  },
  {
   "cell_type": "code",
   "execution_count": null,
   "metadata": {},
   "outputs": [],
   "source": []
  }
 ],
 "metadata": {
  "kernelspec": {
   "display_name": "CHAT2",
   "language": "python",
   "name": "python3"
  },
  "language_info": {
   "codemirror_mode": {
    "name": "ipython",
    "version": 3
   },
   "file_extension": ".py",
   "mimetype": "text/x-python",
   "name": "python",
   "nbconvert_exporter": "python",
   "pygments_lexer": "ipython3",
   "version": "3.12.3"
  }
 },
 "nbformat": 4,
 "nbformat_minor": 2
}
